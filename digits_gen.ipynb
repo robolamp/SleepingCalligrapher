{
 "cells": [
  {
   "cell_type": "markdown",
   "metadata": {},
   "source": [
    "# Digits generator"
   ]
  },
  {
   "cell_type": "code",
   "execution_count": 1,
   "metadata": {},
   "outputs": [],
   "source": [
    "import pandas as pd\n",
    "import numpy as np\n",
    "import matplotlib.pyplot as plt\n",
    "\n",
    "%matplotlib inline"
   ]
  },
  {
   "cell_type": "code",
   "execution_count": 2,
   "metadata": {},
   "outputs": [
    {
     "name": "stderr",
     "output_type": "stream",
     "text": [
      "Using TensorFlow backend.\n"
     ]
    }
   ],
   "source": [
    "from keras.models import Sequential\n",
    "from keras.layers.core import Dense, Dropout, Activation, Reshape, Flatten\n",
    "from keras.layers.normalization import BatchNormalization\n",
    "from keras.layers.convolutional import UpSampling2D, Conv2DTranspose, Conv2D\n",
    "\n",
    "from keras.optimizers import SGD, RMSprop"
   ]
  },
  {
   "cell_type": "markdown",
   "metadata": {},
   "source": [
    "## Data"
   ]
  },
  {
   "cell_type": "code",
   "execution_count": 3,
   "metadata": {},
   "outputs": [
    {
     "name": "stdout",
     "output_type": "stream",
     "text": [
      "Extracting MNIST_data/train-images-idx3-ubyte.gz\n",
      "Extracting MNIST_data/train-labels-idx1-ubyte.gz\n",
      "Extracting MNIST_data/t10k-images-idx3-ubyte.gz\n",
      "Extracting MNIST_data/t10k-labels-idx1-ubyte.gz\n"
     ]
    }
   ],
   "source": [
    "from tensorflow.examples.tutorials.mnist import input_data\n",
    "mnist = input_data.read_data_sets(\"MNIST_data/\", one_hot=True)"
   ]
  },
  {
   "cell_type": "markdown",
   "metadata": {},
   "source": [
    "## Visualisation"
   ]
  },
  {
   "cell_type": "code",
   "execution_count": 4,
   "metadata": {},
   "outputs": [],
   "source": [
    "def reshape_image(pixels):\n",
    "    npix = int(np.sqrt(pixels.shape[0]))\n",
    "    return np.reshape(pixels, (npix, npix))\n",
    "\n",
    "def draw_image(image):\n",
    "    image = np.reshape(image, (image.shape[0], image.shape[1]))\n",
    "    plt.imshow(image, cmap = plt.get_cmap('gray'))\n",
    "    plt.axis('off')\n",
    "    plt.show()"
   ]
  },
  {
   "cell_type": "code",
   "execution_count": 5,
   "metadata": {},
   "outputs": [],
   "source": [
    "# draw_image(reshape_image(mnist.train.images[0]))"
   ]
  },
  {
   "cell_type": "code",
   "execution_count": 6,
   "metadata": {},
   "outputs": [],
   "source": [
    "X_train = mnist.train.images.reshape(-1,  \n",
    "                                     28, \n",
    "                                     28, \n",
    "                                     1).astype(np.float32)\n",
    "y_train = mnist.train.labels"
   ]
  },
  {
   "cell_type": "code",
   "execution_count": 7,
   "metadata": {},
   "outputs": [
    {
     "data": {
      "image/png": "[encoded data removed]",
      "text/plain": [
       "<matplotlib.figure.Figure at 0x7f3db4c2e9b0>"
      ]
     },
     "metadata": {},
     "output_type": "display_data"
    },
    {
     "data": {
      "text/plain": [
       "(None, array([ 1.,  0.,  0.,  0.,  0.,  0.,  0.,  0.,  0.,  0.]))"
      ]
     },
     "execution_count": 7,
     "metadata": {},
     "output_type": "execute_result"
    }
   ],
   "source": [
    "draw_image(X_train[10]), y_train[10]"
   ]
  },
  {
   "cell_type": "code",
   "execution_count": 8,
   "metadata": {},
   "outputs": [
    {
     "data": {
      "text/plain": [
       "(55000, 28, 28, 1)"
      ]
     },
     "execution_count": 8,
     "metadata": {},
     "output_type": "execute_result"
    }
   ],
   "source": [
    "X_train.shape"
   ]
  },
  {
   "cell_type": "markdown",
   "metadata": {},
   "source": [
    "# GAN example\n",
    "## Generator"
   ]
  },
  {
   "cell_type": "code",
   "execution_count": 9,
   "metadata": {},
   "outputs": [],
   "source": [
    "gen_dropout = 0.4\n",
    "gen_input_dim = 7\n",
    "gen_depth = 128\n",
    "gen_noise_dim = 100"
   ]
  },
  {
   "cell_type": "code",
   "execution_count": 10,
   "metadata": {},
   "outputs": [
    {
     "name": "stdout",
     "output_type": "stream",
     "text": [
      "_________________________________________________________________\n",
      "Layer (type)                 Output Shape              Param #   \n",
      "=================================================================\n",
      "dense_1 (Dense)              (None, 6272)              633472    \n",
      "_________________________________________________________________\n",
      "batch_normalization_1 (Batch (None, 6272)              25088     \n",
      "_________________________________________________________________\n",
      "activation_1 (Activation)    (None, 6272)              0         \n",
      "_________________________________________________________________\n",
      "reshape_1 (Reshape)          (None, 7, 7, 128)         0         \n",
      "_________________________________________________________________\n",
      "dropout_1 (Dropout)          (None, 7, 7, 128)         0         \n",
      "_________________________________________________________________\n",
      "up_sampling2d_1 (UpSampling2 (None, 14, 14, 128)       0         \n",
      "_________________________________________________________________\n",
      "conv2d_transpose_1 (Conv2DTr (None, 14, 14, 64)        204864    \n",
      "_________________________________________________________________\n",
      "batch_normalization_2 (Batch (None, 14, 14, 64)        256       \n",
      "_________________________________________________________________\n",
      "activation_2 (Activation)    (None, 14, 14, 64)        0         \n",
      "_________________________________________________________________\n",
      "up_sampling2d_2 (UpSampling2 (None, 28, 28, 64)        0         \n",
      "_________________________________________________________________\n",
      "conv2d_transpose_2 (Conv2DTr (None, 28, 28, 32)        51232     \n",
      "_________________________________________________________________\n",
      "batch_normalization_3 (Batch (None, 28, 28, 32)        128       \n",
      "_________________________________________________________________\n",
      "activation_3 (Activation)    (None, 28, 28, 32)        0         \n",
      "_________________________________________________________________\n",
      "conv2d_transpose_3 (Conv2DTr (None, 28, 28, 16)        12816     \n",
      "_________________________________________________________________\n",
      "batch_normalization_4 (Batch (None, 28, 28, 16)        64        \n",
      "_________________________________________________________________\n",
      "activation_4 (Activation)    (None, 28, 28, 16)        0         \n",
      "_________________________________________________________________\n",
      "conv2d_transpose_4 (Conv2DTr (None, 28, 28, 1)         401       \n",
      "_________________________________________________________________\n",
      "activation_5 (Activation)    (None, 28, 28, 1)         0         \n",
      "=================================================================\n",
      "Total params: 928,321\n",
      "Trainable params: 915,553\n",
      "Non-trainable params: 12,768\n",
      "_________________________________________________________________\n"
     ]
    }
   ],
   "source": [
    "gennet = Sequential()\n",
    "\n",
    "# Input \n",
    "# fully-connected layer\n",
    "gennet.add(Dense(gen_input_dim * gen_input_dim * gen_depth, \n",
    "                 input_dim=gen_noise_dim))\n",
    "gennet.add(BatchNormalization(momentum=0.9))\n",
    "gennet.add(Activation('relu'))\n",
    "gennet.add(Reshape((gen_input_dim, gen_input_dim, gen_depth)))\n",
    "gennet.add(Dropout(gen_dropout))\n",
    "\n",
    "# Deconvolution layers\n",
    "gennet.add(UpSampling2D())\n",
    "gennet.add(Conv2DTranspose(int(gen_depth / 2), 5, padding='same'))\n",
    "gennet.add(BatchNormalization(momentum=0.9))\n",
    "gennet.add(Activation('relu'))\n",
    "\n",
    "gennet.add(UpSampling2D())\n",
    "gennet.add(Conv2DTranspose(int(gen_depth / 4), 5, padding='same'))\n",
    "gennet.add(BatchNormalization(momentum=0.9))\n",
    "gennet.add(Activation('relu'))\n",
    "\n",
    "gennet.add(Conv2DTranspose(int(gen_depth / 8), 5, padding='same'))\n",
    "gennet.add(BatchNormalization(momentum=0.9))\n",
    "gennet.add(Activation('relu'))\n",
    "\n",
    "# Output\n",
    "gennet.add(Conv2DTranspose(1, 5, padding='same'))\n",
    "gennet.add(Activation('sigmoid'))\n",
    "\n",
    "gennet.summary()"
   ]
  },
  {
   "cell_type": "markdown",
   "metadata": {},
   "source": [
    "## Discriminator"
   ]
  },
  {
   "cell_type": "code",
   "execution_count": 11,
   "metadata": {},
   "outputs": [],
   "source": [
    "disc_depth = 64\n",
    "disc_dropout = 0.4"
   ]
  },
  {
   "cell_type": "code",
   "execution_count": 12,
   "metadata": {},
   "outputs": [
    {
     "name": "stdout",
     "output_type": "stream",
     "text": [
      "_________________________________________________________________\n",
      "Layer (type)                 Output Shape              Param #   \n",
      "=================================================================\n",
      "conv2d_1 (Conv2D)            (None, 14, 14, 64)        1664      \n",
      "_________________________________________________________________\n",
      "activation_6 (Activation)    (None, 14, 14, 64)        0         \n",
      "_________________________________________________________________\n",
      "dropout_2 (Dropout)          (None, 14, 14, 64)        0         \n",
      "_________________________________________________________________\n",
      "conv2d_2 (Conv2D)            (None, 7, 7, 128)         204928    \n",
      "_________________________________________________________________\n",
      "activation_7 (Activation)    (None, 7, 7, 128)         0         \n",
      "_________________________________________________________________\n",
      "dropout_3 (Dropout)          (None, 7, 7, 128)         0         \n",
      "_________________________________________________________________\n",
      "conv2d_3 (Conv2D)            (None, 4, 4, 256)         819456    \n",
      "_________________________________________________________________\n",
      "activation_8 (Activation)    (None, 4, 4, 256)         0         \n",
      "_________________________________________________________________\n",
      "dropout_4 (Dropout)          (None, 4, 4, 256)         0         \n",
      "_________________________________________________________________\n",
      "conv2d_4 (Conv2D)            (None, 2, 2, 512)         3277312   \n",
      "_________________________________________________________________\n",
      "activation_9 (Activation)    (None, 2, 2, 512)         0         \n",
      "_________________________________________________________________\n",
      "dropout_5 (Dropout)          (None, 2, 2, 512)         0         \n",
      "_________________________________________________________________\n",
      "flatten_1 (Flatten)          (None, 2048)              0         \n",
      "_________________________________________________________________\n",
      "dense_2 (Dense)              (None, 1)                 2049      \n",
      "_________________________________________________________________\n",
      "activation_10 (Activation)   (None, 1)                 0         \n",
      "=================================================================\n",
      "Total params: 4,305,409\n",
      "Trainable params: 4,305,409\n",
      "Non-trainable params: 0\n",
      "_________________________________________________________________\n"
     ]
    }
   ],
   "source": [
    "discnet = Sequential()\n",
    "\n",
    "# Input\n",
    "discnet.add(Conv2D(disc_depth, 5, strides=2, input_shape=(28, 28, 1), \n",
    "                   padding='same'))\n",
    "discnet.add(Activation('relu'))\n",
    "discnet.add(Dropout(disc_dropout))\n",
    "\n",
    "discnet.add(Conv2D(disc_depth*2, 5, strides=2, padding='same'))\n",
    "discnet.add(Activation('relu'))\n",
    "discnet.add(Dropout(disc_dropout))\n",
    "\n",
    "discnet.add(Conv2D(disc_depth*4, 5, strides=2, padding='same'))\n",
    "discnet.add(Activation('relu'))\n",
    "discnet.add(Dropout(disc_dropout))\n",
    "\n",
    "discnet.add(Conv2D(disc_depth*8, 5, strides=2, padding='same'))\n",
    "discnet.add(Activation('relu'))\n",
    "discnet.add(Dropout(disc_dropout))\n",
    "\n",
    "# Out: scalar estimation of probability\n",
    "discnet.add(Flatten())\n",
    "discnet.add(Dense(1))\n",
    "discnet.add(Activation('sigmoid'))\n",
    "\n",
    "discnet.summary()"
   ]
  },
  {
   "cell_type": "markdown",
   "metadata": {},
   "source": [
    "## Discriminator model"
   ]
  },
  {
   "cell_type": "code",
   "execution_count": 13,
   "metadata": {},
   "outputs": [],
   "source": [
    "discmodel = Sequential()\n",
    "discmodel.add(discnet)\n",
    "discmodel.compile(loss='binary_crossentropy', \n",
    "                  optimizer=RMSprop(lr=0.0008, clipvalue=1.0, decay=6e-8),\n",
    "                  metrics=['accuracy'])"
   ]
  },
  {
   "cell_type": "markdown",
   "metadata": {},
   "source": [
    "## Adversarial model"
   ]
  },
  {
   "cell_type": "code",
   "execution_count": 14,
   "metadata": {},
   "outputs": [],
   "source": [
    "advmodel = Sequential()\n",
    "advmodel.add(gennet)\n",
    "advmodel.add(discnet)\n",
    "advmodel.compile(loss='binary_crossentropy', \n",
    "                 optimizer=RMSprop(lr=0.00084, clipvalue=1.0, decay=3e-8),\n",
    "                 metrics=['accuracy'])"
   ]
  },
  {
   "cell_type": "markdown",
   "metadata": {},
   "source": [
    "## Training"
   ]
  },
  {
   "cell_type": "code",
   "execution_count": 15,
   "metadata": {
    "scrolled": true
   },
   "outputs": [
    {
     "name": "stdout",
     "output_type": "stream",
     "text": [
      "1th batch of 250 |Disc loss 0.6929183602333069 |Disc acc 0.515625 |Adv loss 0.1604084074497223 |Adv acc 1.0\n",
      "2th batch of 250 |Disc loss 7.971191883087158 |Disc acc 0.5 |Adv loss 1.192093321833454e-07 |Adv acc 1.0\n",
      "3th batch of 250 |Disc loss 7.971191883087158 |Disc acc 0.5 |Adv loss 1.192093321833454e-07 |Adv acc 1.0\n",
      "4th batch of 250 |Disc loss 4.0565080642700195 |Disc acc 0.5 |Adv loss 0.5717988014221191 |Adv acc 1.0\n",
      "5th batch of 250 |Disc loss 0.6395044326782227 |Disc acc 0.5 |Adv loss 0.06829625368118286 |Adv acc 1.0\n",
      "6th batch of 250 |Disc loss 1.1743732690811157 |Disc acc 0.5 |Adv loss 0.013158510439097881 |Adv acc 1.0\n",
      "7th batch of 250 |Disc loss 0.33136069774627686 |Disc acc 0.8515625 |Adv loss 0.00015943284961394966 |Adv acc 1.0\n",
      "8th batch of 250 |Disc loss 0.11616502702236176 |Disc acc 0.99609375 |Adv loss 0.0003472912358120084 |Adv acc 1.0\n",
      "9th batch of 250 |Disc loss 0.03621864318847656 |Disc acc 1.0 |Adv loss 0.00017875824414659292 |Adv acc 1.0\n",
      "10th batch of 250 |Disc loss 0.012244749814271927 |Disc acc 1.0 |Adv loss 8.287323726108298e-05 |Adv acc 1.0\n",
      "11th batch of 250 |Disc loss 0.006041304208338261 |Disc acc 0.998046875 |Adv loss 1.73724110936746e-05 |Adv acc 1.0\n",
      "12th batch of 250 |Disc loss 0.0025718321558088064 |Disc acc 1.0 |Adv loss 2.719463338962669e-07 |Adv acc 1.0\n",
      "13th batch of 250 |Disc loss 0.0013191573088988662 |Disc acc 1.0 |Adv loss 6.207276328495936e-07 |Adv acc 1.0\n",
      "14th batch of 250 |Disc loss 0.0007574463379569352 |Disc acc 1.0 |Adv loss 2.426098717478453e-07 |Adv acc 1.0\n",
      "15th batch of 250 |Disc loss 0.000709242420271039 |Disc acc 1.0 |Adv loss 3.3620781891841034e-07 |Adv acc 1.0\n",
      "16th batch of 250 |Disc loss 0.0003719171800184995 |Disc acc 1.0 |Adv loss 2.1606695099762874e-07 |Adv acc 1.0\n",
      "17th batch of 250 |Disc loss 0.00028006944921799004 |Disc acc 1.0 |Adv loss 2.952299951175519e-07 |Adv acc 1.0\n",
      "18th batch of 250 |Disc loss 0.0005116371903568506 |Disc acc 1.0 |Adv loss 9.667348876973847e-07 |Adv acc 1.0\n",
      "19th batch of 250 |Disc loss 0.000569010793697089 |Disc acc 1.0 |Adv loss 1.192093321833454e-07 |Adv acc 1.0\n",
      "20th batch of 250 |Disc loss 0.0006049794610589743 |Disc acc 1.0 |Adv loss 1.192093321833454e-07 |Adv acc 1.0\n",
      "21th batch of 250 |Disc loss 0.0006376718520186841 |Disc acc 1.0 |Adv loss 1.192093321833454e-07 |Adv acc 1.0\n",
      "22th batch of 250 |Disc loss 9.098855662159622e-05 |Disc acc 1.0 |Adv loss 1.2014065475796087e-07 |Adv acc 1.0\n",
      "23th batch of 250 |Disc loss 7.952938176458701e-05 |Disc acc 1.0 |Adv loss 1.1967499347065313e-07 |Adv acc 1.0\n",
      "24th batch of 250 |Disc loss 6.346238660626113e-05 |Disc acc 1.0 |Adv loss 1.2014065475796087e-07 |Adv acc 1.0\n",
      "25th batch of 250 |Disc loss 4.420275945449248e-05 |Disc acc 1.0 |Adv loss 1.192093321833454e-07 |Adv acc 1.0\n",
      "26th batch of 250 |Disc loss 3.841925718006678e-05 |Disc acc 1.0 |Adv loss 1.2014065475796087e-07 |Adv acc 1.0\n",
      "27th batch of 250 |Disc loss 3.621724317781627e-05 |Disc acc 1.0 |Adv loss 1.2107197733257635e-07 |Adv acc 1.0\n",
      "28th batch of 250 |Disc loss 5.1169743528589606e-05 |Disc acc 1.0 |Adv loss 1.3969845724659535e-07 |Adv acc 1.0\n",
      "29th batch of 250 |Disc loss 2.1502601157408208e-05 |Disc acc 1.0 |Adv loss 1.2107197733257635e-07 |Adv acc 1.0\n",
      "30th batch of 250 |Disc loss 2.233799204987008e-05 |Disc acc 1.0 |Adv loss 1.2107197733257635e-07 |Adv acc 1.0\n",
      "31th batch of 250 |Disc loss 0.00011075053043896332 |Disc acc 1.0 |Adv loss 1.5972187838997343e-07 |Adv acc 1.0\n",
      "32th batch of 250 |Disc loss 2.2728676412953064e-05 |Disc acc 1.0 |Adv loss 1.2572859020565375e-07 |Adv acc 1.0\n",
      "33th batch of 250 |Disc loss 1.901870928122662e-05 |Disc acc 1.0 |Adv loss 1.2805691085304716e-07 |Adv acc 1.0\n",
      "34th batch of 250 |Disc loss 2.1552184989559464e-05 |Disc acc 1.0 |Adv loss 1.215376386198841e-07 |Adv acc 1.0\n",
      "35th batch of 250 |Disc loss 1.3895130905439146e-05 |Disc acc 1.0 |Adv loss 1.2060631604526861e-07 |Adv acc 1.0\n",
      "36th batch of 250 |Disc loss 1.6343105016858317e-05 |Disc acc 1.0 |Adv loss 1.3643879981373175e-07 |Adv acc 1.0\n",
      "37th batch of 250 |Disc loss 1.566391256346833e-05 |Disc acc 1.0 |Adv loss 1.2759122114403e-07 |Adv acc 1.0\n",
      "38th batch of 250 |Disc loss 9.452203812543303e-06 |Disc acc 1.0 |Adv loss 1.4016410432304838e-07 |Adv acc 1.0\n",
      "39th batch of 250 |Disc loss 9.501067324890755e-06 |Disc acc 1.0 |Adv loss 1.1967499347065313e-07 |Adv acc 1.0\n",
      "40th batch of 250 |Disc loss 1.5223598893499002e-05 |Disc acc 1.0 |Adv loss 1.2572860441650846e-07 |Adv acc 1.0\n",
      "41th batch of 250 |Disc loss 1.8683496818994172e-05 |Disc acc 1.0 |Adv loss 1.3550747723911627e-07 |Adv acc 1.0\n",
      "42th batch of 250 |Disc loss 8.897543011698872e-06 |Disc acc 1.0 |Adv loss 1.3737012238834723e-07 |Adv acc 1.0\n",
      "43th batch of 250 |Disc loss 4.339645784057211e-06 |Disc acc 1.0 |Adv loss 1.285225721403549e-07 |Adv acc 1.0\n",
      "44th batch of 250 |Disc loss 1.0813671906362288e-05 |Disc acc 1.0 |Adv loss 1.4575203977074125e-07 |Adv acc 1.0\n",
      "45th batch of 250 |Disc loss 7.330101652769372e-06 |Disc acc 1.0 |Adv loss 1.4575203977074125e-07 |Adv acc 1.0\n",
      "46th batch of 250 |Disc loss 5.474844783748267e-06 |Disc acc 1.0 |Adv loss 1.415611023958263e-07 |Adv acc 1.0\n",
      "47th batch of 250 |Disc loss 2.2363126845448278e-05 |Disc acc 1.0 |Adv loss 1.583248945280502e-07 |Adv acc 1.0\n",
      "48th batch of 250 |Disc loss 2.5803119569900446e-05 |Disc acc 1.0 |Adv loss 2.9988640903866326e-07 |Adv acc 1.0\n",
      "49th batch of 250 |Disc loss 5.851048172189621e-06 |Disc acc 1.0 |Adv loss 1.844019266172836e-07 |Adv acc 1.0\n",
      "50th batch of 250 |Disc loss 4.294944119465072e-06 |Disc acc 1.0 |Adv loss 2.5937407599485596e-07 |Adv acc 1.0\n",
      "51th batch of 250 |Disc loss 9.270092959923204e-06 |Disc acc 1.0 |Adv loss 1.5599655966980208e-07 |Adv acc 1.0\n",
      "52th batch of 250 |Disc loss 5.087798854219727e-06 |Disc acc 1.0 |Adv loss 1.9464665967916517e-07 |Adv acc 1.0\n",
      "53th batch of 250 |Disc loss 4.262499714968726e-06 |Disc acc 1.0 |Adv loss 1.7602008028916316e-07 |Adv acc 1.0\n",
      "54th batch of 250 |Disc loss 2.552589194237953e-06 |Disc acc 1.0 |Adv loss 1.3317917080257757e-07 |Adv acc 1.0\n",
      "55th batch of 250 |Disc loss 4.454269856069004e-06 |Disc acc 1.0 |Adv loss 1.4109539847595443e-07 |Adv acc 1.0\n",
      "56th batch of 250 |Disc loss 4.2860169742198195e-06 |Disc acc 1.0 |Adv loss 1.6484415255035856e-07 |Adv acc 1.0\n",
      "57th batch of 250 |Disc loss 3.824411123787286e-06 |Disc acc 1.0 |Adv loss 1.4388936619980086e-07 |Adv acc 1.0\n",
      "58th batch of 250 |Disc loss 9.515750207356177e-06 |Disc acc 1.0 |Adv loss 1.5739360037514416e-07 |Adv acc 1.0\n",
      "59th batch of 250 |Disc loss 1.567801518831402e-06 |Disc acc 1.0 |Adv loss 1.8114258182322374e-07 |Adv acc 1.0\n",
      "60th batch of 250 |Disc loss 2.5070958145079203e-06 |Disc acc 1.0 |Adv loss 1.6950085068856424e-07 |Adv acc 1.0\n",
      "61th batch of 250 |Disc loss 1.7753949350662879e-06 |Disc acc 1.0 |Adv loss 1.4062976561035612e-07 |Adv acc 1.0\n",
      "62th batch of 250 |Disc loss 9.26643963339302e-07 |Disc acc 1.0 |Adv loss 1.3178218694065436e-07 |Adv acc 1.0\n",
      "63th batch of 250 |Disc loss 7.562374321423704e-06 |Disc acc 1.0 |Adv loss 1.2945388050411566e-07 |Adv acc 1.0\n",
      "64th batch of 250 |Disc loss 1.2901035688628326e-06 |Disc acc 1.0 |Adv loss 1.2572859020565375e-07 |Adv acc 1.0\n",
      "65th batch of 250 |Disc loss 3.867435225402005e-07 |Disc acc 1.0 |Adv loss 1.345761546645008e-07 |Adv acc 1.0\n",
      "66th batch of 250 |Disc loss 8.314876254189585e-07 |Disc acc 1.0 |Adv loss 1.252629147074913e-07 |Adv acc 1.0\n",
      "67th batch of 250 |Disc loss 1.9420767785049975e-06 |Disc acc 1.0 |Adv loss 1.657755319683929e-07 |Adv acc 1.0\n",
      "68th batch of 250 |Disc loss 3.6181929772283183e-06 |Disc acc 1.0 |Adv loss 1.3783578367565497e-07 |Adv acc 1.0\n",
      "69th batch of 250 |Disc loss 1.7645586467551766e-06 |Disc acc 1.0 |Adv loss 1.299195417914234e-07 |Adv acc 1.0\n",
      "70th batch of 250 |Disc loss 1.8326181816519238e-06 |Disc acc 1.0 |Adv loss 1.3969842882488592e-07 |Adv acc 1.0\n",
      "71th batch of 250 |Disc loss 1.408186903972819e-06 |Disc acc 1.0 |Adv loss 1.238659450564228e-07 |Adv acc 1.0\n",
      "72th batch of 250 |Disc loss 8.271706519735744e-07 |Disc acc 1.0 |Adv loss 1.285225721403549e-07 |Adv acc 1.0\n",
      "73th batch of 250 |Disc loss 2.3968182176759e-06 |Disc acc 1.0 |Adv loss 1.5366831007668225e-07 |Adv acc 1.0\n",
      "74th batch of 250 |Disc loss 8.417789558734512e-07 |Disc acc 1.0 |Adv loss 1.2246894698364486e-07 |Adv acc 1.0\n",
      "75th batch of 250 |Disc loss 5.646958243232802e-07 |Disc acc 1.0 |Adv loss 1.2386591663471336e-07 |Adv acc 1.0\n",
      "76th batch of 250 |Disc loss 4.084145359684044e-07 |Disc acc 1.0 |Adv loss 1.3317917080257757e-07 |Adv acc 1.0\n"
     ]
    },
    {
     "name": "stdout",
     "output_type": "stream",
     "text": [
      "77th batch of 250 |Disc loss 9.222328571922844e-07 |Disc acc 1.0 |Adv loss 1.2107196312172164e-07 |Adv acc 1.0\n",
      "78th batch of 250 |Disc loss 2.7453233997221105e-06 |Disc acc 1.0 |Adv loss 1.3364484630074003e-07 |Adv acc 1.0\n",
      "79th batch of 250 |Disc loss 1.098893562812009e-06 |Disc acc 1.0 |Adv loss 1.4947733006920316e-07 |Adv acc 1.0\n",
      "80th batch of 250 |Disc loss 1.5467708180949558e-06 |Disc acc 1.0 |Adv loss 1.369044611010395e-07 |Adv acc 1.0\n",
      "81th batch of 250 |Disc loss 1.752034677338088e-06 |Disc acc 1.0 |Adv loss 1.2200329990719183e-07 |Adv acc 1.0\n",
      "82th batch of 250 |Disc loss 4.038025451791327e-07 |Disc acc 1.0 |Adv loss 1.2433160634373053e-07 |Adv acc 1.0\n",
      "83th batch of 250 |Disc loss 4.485850126911828e-07 |Disc acc 1.0 |Adv loss 1.7369177385262446e-07 |Adv acc 1.0\n",
      "84th batch of 250 |Disc loss 3.3261380849580746e-07 |Disc acc 1.0 |Adv loss 1.192093321833454e-07 |Adv acc 1.0\n",
      "85th batch of 250 |Disc loss 5.228732788964408e-07 |Disc acc 1.0 |Adv loss 1.1967499347065313e-07 |Adv acc 1.0\n",
      "86th batch of 250 |Disc loss 4.4118621644884115e-07 |Disc acc 1.0 |Adv loss 1.2572859020565375e-07 |Adv acc 1.0\n",
      "87th batch of 250 |Disc loss 5.117652790431748e-07 |Disc acc 1.0 |Adv loss 1.2246894698364486e-07 |Adv acc 1.0\n",
      "88th batch of 250 |Disc loss 2.425846332698711e-07 |Disc acc 1.0 |Adv loss 1.1967499347065313e-07 |Adv acc 1.0\n",
      "89th batch of 250 |Disc loss 7.45824934256234e-07 |Disc acc 1.0 |Adv loss 1.6903516097954707e-07 |Adv acc 1.0\n",
      "90th batch of 250 |Disc loss 6.805212819926965e-07 |Disc acc 1.0 |Adv loss 1.275912353548847e-07 |Adv acc 1.0\n",
      "91th batch of 250 |Disc loss 6.33958620710473e-07 |Disc acc 1.0 |Adv loss 1.2759124956573942e-07 |Adv acc 1.0\n",
      "92th batch of 250 |Disc loss 2.9671116408280795e-07 |Disc acc 1.0 |Adv loss 1.2060631604526861e-07 |Adv acc 1.0\n",
      "93th batch of 250 |Disc loss 2.890307939651393e-07 |Disc acc 1.0 |Adv loss 1.2153762440902938e-07 |Adv acc 1.0\n",
      "94th batch of 250 |Disc loss 1.5550692751276074e-06 |Disc acc 1.0 |Adv loss 1.2433160634373053e-07 |Adv acc 1.0\n",
      "95th batch of 250 |Disc loss 4.1369332848262275e-07 |Disc acc 1.0 |Adv loss 1.424924249704418e-07 |Adv acc 1.0\n",
      "96th batch of 250 |Disc loss 5.335501782610663e-07 |Disc acc 1.0 |Adv loss 1.3131652565334662e-07 |Adv acc 1.0\n",
      "97th batch of 250 |Disc loss 7.992684913915582e-07 |Disc acc 1.0 |Adv loss 1.9138710172228457e-07 |Adv acc 1.0\n",
      "98th batch of 250 |Disc loss 5.302517820382491e-07 |Disc acc 1.0 |Adv loss 1.2014065475796087e-07 |Adv acc 1.0\n",
      "99th batch of 250 |Disc loss 3.145375728763611e-07 |Disc acc 1.0 |Adv loss 1.275912353548847e-07 |Adv acc 1.0\n",
      "100th batch of 250 |Disc loss 1.8444907823322865e-07 |Disc acc 1.0 |Adv loss 1.2246896119449957e-07 |Adv acc 1.0\n",
      "101th batch of 250 |Disc loss 3.4412934724059596e-07 |Disc acc 1.0 |Adv loss 1.261942657038162e-07 |Adv acc 1.0\n",
      "102th batch of 250 |Disc loss 9.295914651374915e-07 |Disc acc 1.0 |Adv loss 1.2526290049663658e-07 |Adv acc 1.0\n",
      "103th batch of 250 |Disc loss 2.1084252921355073e-07 |Disc acc 1.0 |Adv loss 1.1967499347065313e-07 |Adv acc 1.0\n",
      "104th batch of 250 |Disc loss 2.7908416200261854e-07 |Disc acc 1.0 |Adv loss 1.1967499347065313e-07 |Adv acc 1.0\n",
      "105th batch of 250 |Disc loss 2.0280599244415498e-07 |Disc acc 1.0 |Adv loss 1.2200329990719183e-07 |Adv acc 1.0\n",
      "106th batch of 250 |Disc loss 3.4156769856963365e-07 |Disc acc 1.0 |Adv loss 1.5366831007668225e-07 |Adv acc 1.0\n",
      "107th batch of 250 |Disc loss 1.8002911872372351e-07 |Disc acc 1.0 |Adv loss 1.2014065475796087e-07 |Adv acc 1.0\n",
      "108th batch of 250 |Disc loss 2.2930747434202203e-07 |Disc acc 1.0 |Adv loss 1.2107199154343107e-07 |Adv acc 1.0\n",
      "109th batch of 250 |Disc loss 2.651881061410677e-07 |Disc acc 1.0 |Adv loss 1.192093321833454e-07 |Adv acc 1.0\n",
      "110th batch of 250 |Disc loss 1.9477425894365297e-07 |Disc acc 1.0 |Adv loss 1.192093321833454e-07 |Adv acc 1.0\n",
      "111th batch of 250 |Disc loss 2.2156001477924292e-07 |Disc acc 1.0 |Adv loss 1.192093321833454e-07 |Adv acc 1.0\n",
      "112th batch of 250 |Disc loss 2.900223137203284e-07 |Disc acc 1.0 |Adv loss 1.2014065475796087e-07 |Adv acc 1.0\n",
      "113th batch of 250 |Disc loss 1.3091413109123096e-07 |Disc acc 1.0 |Adv loss 1.2479728184189298e-07 |Adv acc 1.0\n",
      "114th batch of 250 |Disc loss 4.1285565544058045e-07 |Disc acc 1.0 |Adv loss 1.192093321833454e-07 |Adv acc 1.0\n",
      "115th batch of 250 |Disc loss 2.035006616551982e-07 |Disc acc 1.0 |Adv loss 1.2060631604526861e-07 |Adv acc 1.0\n",
      "116th batch of 250 |Disc loss 1.908255882199228e-07 |Disc acc 1.0 |Adv loss 1.261942657038162e-07 |Adv acc 1.0\n",
      "117th batch of 250 |Disc loss 1.4935184822206793e-07 |Disc acc 1.0 |Adv loss 1.2060633025612333e-07 |Adv acc 1.0\n",
      "118th batch of 250 |Disc loss 5.957708140158502e-07 |Disc acc 1.0 |Adv loss 1.3317917080257757e-07 |Adv acc 1.0\n",
      "119th batch of 250 |Disc loss 1.7115685579938145e-07 |Disc acc 1.0 |Adv loss 1.2479728184189298e-07 |Adv acc 1.0\n",
      "120th batch of 250 |Disc loss 1.3255954911528534e-07 |Disc acc 1.0 |Adv loss 1.401641327447578e-07 |Adv acc 1.0\n",
      "121th batch of 250 |Disc loss 1.3531588649584592e-07 |Disc acc 1.0 |Adv loss 1.1967499347065313e-07 |Adv acc 1.0\n",
      "122th batch of 250 |Disc loss 1.5326730817832868e-07 |Disc acc 1.0 |Adv loss 1.192093321833454e-07 |Adv acc 1.0\n",
      "123th batch of 250 |Disc loss 2.00768056402012e-07 |Disc acc 1.0 |Adv loss 1.192093321833454e-07 |Adv acc 1.0\n",
      "124th batch of 250 |Disc loss 1.5539694686594885e-07 |Disc acc 1.0 |Adv loss 1.192093321833454e-07 |Adv acc 1.0\n",
      "125th batch of 250 |Disc loss 1.5314824963752471e-07 |Disc acc 1.0 |Adv loss 1.2014065475796087e-07 |Adv acc 1.0\n",
      "126th batch of 250 |Disc loss 1.3550057076372468e-07 |Disc acc 1.0 |Adv loss 1.1967499347065313e-07 |Adv acc 1.0\n",
      "127th batch of 250 |Disc loss 3.1386991850013146e-07 |Disc acc 1.0 |Adv loss 1.192093321833454e-07 |Adv acc 1.0\n",
      "128th batch of 250 |Disc loss 1.2473367405618774e-07 |Disc acc 1.0 |Adv loss 1.1967499347065313e-07 |Adv acc 1.0\n",
      "129th batch of 250 |Disc loss 1.3679057531135186e-07 |Disc acc 1.0 |Adv loss 1.2246896119449957e-07 |Adv acc 1.0\n",
      "130th batch of 250 |Disc loss 1.4905673140219733e-07 |Disc acc 1.0 |Adv loss 1.2293463669266202e-07 |Adv acc 1.0\n",
      "131th batch of 250 |Disc loss 1.754022065370009e-07 |Disc acc 1.0 |Adv loss 1.192093321833454e-07 |Adv acc 1.0\n",
      "132th batch of 250 |Disc loss 1.3173402635402454e-07 |Disc acc 1.0 |Adv loss 1.2759124956573942e-07 |Adv acc 1.0\n",
      "133th batch of 250 |Disc loss 1.3150203415079886e-07 |Disc acc 1.0 |Adv loss 1.2246897540535429e-07 |Adv acc 1.0\n",
      "134th batch of 250 |Disc loss 1.3704354273613717e-07 |Disc acc 1.0 |Adv loss 1.192093321833454e-07 |Adv acc 1.0\n",
      "135th batch of 250 |Disc loss 1.8066451445974963e-07 |Disc acc 1.0 |Adv loss 1.192093321833454e-07 |Adv acc 1.0\n",
      "136th batch of 250 |Disc loss 1.332417411958886e-07 |Disc acc 1.0 |Adv loss 1.192093321833454e-07 |Adv acc 1.0\n",
      "137th batch of 250 |Disc loss 3.295502892797231e-07 |Disc acc 1.0 |Adv loss 1.2060631604526861e-07 |Adv acc 1.0\n",
      "138th batch of 250 |Disc loss 1.1453801107563777e-07 |Disc acc 1.0 |Adv loss 1.2014065475796087e-07 |Adv acc 1.0\n",
      "139th batch of 250 |Disc loss 1.1251086107222363e-07 |Disc acc 1.0 |Adv loss 1.2107197733257635e-07 |Adv acc 1.0\n",
      "140th batch of 250 |Disc loss 1.1963011559146253e-07 |Disc acc 1.0 |Adv loss 1.2014065475796087e-07 |Adv acc 1.0\n",
      "141th batch of 250 |Disc loss 1.1399220767316365e-07 |Disc acc 1.0 |Adv loss 1.1967499347065313e-07 |Adv acc 1.0\n",
      "142th batch of 250 |Disc loss 1.5479476189739216e-07 |Disc acc 1.0 |Adv loss 1.2014065475796087e-07 |Adv acc 1.0\n",
      "143th batch of 250 |Disc loss 1.2032252527660603e-07 |Disc acc 1.0 |Adv loss 1.3643882823544118e-07 |Adv acc 1.0\n",
      "144th batch of 250 |Disc loss 1.1838042723866238e-07 |Disc acc 1.0 |Adv loss 1.192093321833454e-07 |Adv acc 1.0\n",
      "145th batch of 250 |Disc loss 1.4105586387813673e-07 |Disc acc 1.0 |Adv loss 1.192093321833454e-07 |Adv acc 1.0\n",
      "146th batch of 250 |Disc loss 1.2368025181785924e-07 |Disc acc 1.0 |Adv loss 1.192093321833454e-07 |Adv acc 1.0\n",
      "147th batch of 250 |Disc loss 1.1227154317339227e-07 |Disc acc 1.0 |Adv loss 1.192093321833454e-07 |Adv acc 1.0\n",
      "148th batch of 250 |Disc loss 1.2023885176404292e-07 |Disc acc 1.0 |Adv loss 1.192093321833454e-07 |Adv acc 1.0\n",
      "149th batch of 250 |Disc loss 1.2448809627585433e-07 |Disc acc 1.0 |Adv loss 1.192093321833454e-07 |Adv acc 1.0\n",
      "150th batch of 250 |Disc loss 1.1122849485900588e-07 |Disc acc 1.0 |Adv loss 1.192093321833454e-07 |Adv acc 1.0\n"
     ]
    },
    {
     "name": "stdout",
     "output_type": "stream",
     "text": [
      "151th batch of 250 |Disc loss 1.2628613887954998e-07 |Disc acc 1.0 |Adv loss 1.192093321833454e-07 |Adv acc 1.0\n",
      "152th batch of 250 |Disc loss 1.7493398729584442e-07 |Disc acc 1.0 |Adv loss 1.2479726763103827e-07 |Adv acc 1.0\n",
      "153th batch of 250 |Disc loss 1.1532717536510972e-07 |Disc acc 1.0 |Adv loss 1.1967499347065313e-07 |Adv acc 1.0\n",
      "154th batch of 250 |Disc loss 2.047121654413786e-07 |Disc acc 1.0 |Adv loss 1.192093321833454e-07 |Adv acc 1.0\n",
      "155th batch of 250 |Disc loss 1.1946278277719102e-07 |Disc acc 1.0 |Adv loss 1.3457618308621022e-07 |Adv acc 1.0\n",
      "156th batch of 250 |Disc loss 1.2588417064307578e-07 |Disc acc 1.0 |Adv loss 1.192093321833454e-07 |Adv acc 1.0\n",
      "157th batch of 250 |Disc loss 1.1501592922513737e-07 |Disc acc 1.0 |Adv loss 1.192093321833454e-07 |Adv acc 1.0\n",
      "158th batch of 250 |Disc loss 1.1091674423369113e-07 |Disc acc 1.0 |Adv loss 1.192093321833454e-07 |Adv acc 1.0\n",
      "159th batch of 250 |Disc loss 1.3605915683001513e-07 |Disc acc 1.0 |Adv loss 1.192093321833454e-07 |Adv acc 1.0\n",
      "160th batch of 250 |Disc loss 1.2830959406073816e-07 |Disc acc 1.0 |Adv loss 1.192093321833454e-07 |Adv acc 1.0\n",
      "161th batch of 250 |Disc loss 1.1276576827867757e-07 |Disc acc 1.0 |Adv loss 1.192093321833454e-07 |Adv acc 1.0\n",
      "162th batch of 250 |Disc loss 1.1103330166406522e-07 |Disc acc 1.0 |Adv loss 1.192093321833454e-07 |Adv acc 1.0\n",
      "163th batch of 250 |Disc loss 1.4932258807220933e-07 |Disc acc 1.0 |Adv loss 1.192093321833454e-07 |Adv acc 1.0\n",
      "164th batch of 250 |Disc loss 1.1055907833679157e-07 |Disc acc 1.0 |Adv loss 1.2665992699112394e-07 |Adv acc 1.0\n",
      "165th batch of 250 |Disc loss 1.1267580646290298e-07 |Disc acc 1.0 |Adv loss 1.192093321833454e-07 |Adv acc 1.0\n",
      "166th batch of 250 |Disc loss 1.1035140801141097e-07 |Disc acc 1.0 |Adv loss 1.192093321833454e-07 |Adv acc 1.0\n",
      "167th batch of 250 |Disc loss 1.2690260575709544e-07 |Disc acc 1.0 |Adv loss 1.192093321833454e-07 |Adv acc 1.0\n",
      "168th batch of 250 |Disc loss 1.096046773341186e-07 |Disc acc 1.0 |Adv loss 1.192093321833454e-07 |Adv acc 1.0\n",
      "169th batch of 250 |Disc loss 1.1051545811824326e-07 |Disc acc 1.0 |Adv loss 1.192093321833454e-07 |Adv acc 1.0\n",
      "170th batch of 250 |Disc loss 1.1034929769948576e-07 |Disc acc 1.0 |Adv loss 1.192093321833454e-07 |Adv acc 1.0\n",
      "171th batch of 250 |Disc loss 1.0993218779731251e-07 |Disc acc 1.0 |Adv loss 1.192093321833454e-07 |Adv acc 1.0\n",
      "172th batch of 250 |Disc loss 1.123190145335684e-07 |Disc acc 1.0 |Adv loss 1.192093321833454e-07 |Adv acc 1.0\n",
      "173th batch of 250 |Disc loss 1.0986340015506357e-07 |Disc acc 1.0 |Adv loss 1.192093321833454e-07 |Adv acc 1.0\n",
      "174th batch of 250 |Disc loss 1.1015225709343213e-07 |Disc acc 1.0 |Adv loss 1.192093321833454e-07 |Adv acc 1.0\n",
      "175th batch of 250 |Disc loss 1.284695798631219e-07 |Disc acc 1.0 |Adv loss 1.192093321833454e-07 |Adv acc 1.0\n",
      "176th batch of 250 |Disc loss 2.401118024408788e-07 |Disc acc 1.0 |Adv loss 1.192093321833454e-07 |Adv acc 1.0\n",
      "177th batch of 250 |Disc loss 1.096046773341186e-07 |Disc acc 1.0 |Adv loss 1.2060631604526861e-07 |Adv acc 1.0\n",
      "178th batch of 250 |Disc loss 1.0976285835795352e-07 |Disc acc 1.0 |Adv loss 1.192093321833454e-07 |Adv acc 1.0\n",
      "179th batch of 250 |Disc loss 1.096046773341186e-07 |Disc acc 1.0 |Adv loss 1.192093321833454e-07 |Adv acc 1.0\n",
      "180th batch of 250 |Disc loss 1.1290793366924845e-07 |Disc acc 1.0 |Adv loss 1.192093321833454e-07 |Adv acc 1.0\n",
      "181th batch of 250 |Disc loss 1.0988976839598763e-07 |Disc acc 1.0 |Adv loss 1.2107199154343107e-07 |Adv acc 1.0\n",
      "182th batch of 250 |Disc loss 1.0961783658558488e-07 |Disc acc 1.0 |Adv loss 1.192093321833454e-07 |Adv acc 1.0\n",
      "183th batch of 250 |Disc loss 1.096046773341186e-07 |Disc acc 1.0 |Adv loss 1.192093321833454e-07 |Adv acc 1.0\n",
      "184th batch of 250 |Disc loss 1.1037577962724754e-07 |Disc acc 1.0 |Adv loss 1.192093321833454e-07 |Adv acc 1.0\n",
      "185th batch of 250 |Disc loss 1.1784126741076761e-07 |Disc acc 1.0 |Adv loss 1.192093321833454e-07 |Adv acc 1.0\n",
      "186th batch of 250 |Disc loss 1.0999726640648078e-07 |Disc acc 1.0 |Adv loss 1.192093321833454e-07 |Adv acc 1.0\n",
      "187th batch of 250 |Disc loss 1.0983750797777247e-07 |Disc acc 1.0 |Adv loss 1.192093321833454e-07 |Adv acc 1.0\n",
      "188th batch of 250 |Disc loss 1.096046773341186e-07 |Disc acc 1.0 |Adv loss 1.192093321833454e-07 |Adv acc 1.0\n",
      "189th batch of 250 |Disc loss 1.096046773341186e-07 |Disc acc 1.0 |Adv loss 1.192093321833454e-07 |Adv acc 1.0\n",
      "190th batch of 250 |Disc loss 1.096046773341186e-07 |Disc acc 1.0 |Adv loss 1.192093321833454e-07 |Adv acc 1.0\n",
      "191th batch of 250 |Disc loss 1.1017736767371389e-07 |Disc acc 1.0 |Adv loss 1.192093321833454e-07 |Adv acc 1.0\n",
      "192th batch of 250 |Disc loss 1.096046773341186e-07 |Disc acc 1.0 |Adv loss 1.192093321833454e-07 |Adv acc 1.0\n",
      "193th batch of 250 |Disc loss 1.1036490832339041e-07 |Disc acc 1.0 |Adv loss 1.192093321833454e-07 |Adv acc 1.0\n",
      "194th batch of 250 |Disc loss 1.096046773341186e-07 |Disc acc 1.0 |Adv loss 1.192093321833454e-07 |Adv acc 1.0\n",
      "195th batch of 250 |Disc loss 1.102538504937911e-07 |Disc acc 1.0 |Adv loss 1.192093321833454e-07 |Adv acc 1.0\n",
      "196th batch of 250 |Disc loss 1.1803264499121724e-07 |Disc acc 1.0 |Adv loss 1.192093321833454e-07 |Adv acc 1.0\n",
      "197th batch of 250 |Disc loss 1.096046773341186e-07 |Disc acc 1.0 |Adv loss 1.192093321833454e-07 |Adv acc 1.0\n",
      "198th batch of 250 |Disc loss 1.0974193287438538e-07 |Disc acc 1.0 |Adv loss 1.192093321833454e-07 |Adv acc 1.0\n",
      "199th batch of 250 |Disc loss 1.1033458235942817e-07 |Disc acc 1.0 |Adv loss 1.192093321833454e-07 |Adv acc 1.0\n",
      "200th batch of 250 |Disc loss 1.0985800713569915e-07 |Disc acc 1.0 |Adv loss 1.192093321833454e-07 |Adv acc 1.0\n",
      "201th batch of 250 |Disc loss 1.0977669973044613e-07 |Disc acc 1.0 |Adv loss 1.192093321833454e-07 |Adv acc 1.0\n",
      "202th batch of 250 |Disc loss 1.1192879867394367e-07 |Disc acc 1.0 |Adv loss 1.192093321833454e-07 |Adv acc 1.0\n",
      "203th batch of 250 |Disc loss 1.1093899132674778e-07 |Disc acc 1.0 |Adv loss 1.192093321833454e-07 |Adv acc 1.0\n",
      "204th batch of 250 |Disc loss 1.096046773341186e-07 |Disc acc 1.0 |Adv loss 1.192093321833454e-07 |Adv acc 1.0\n",
      "205th batch of 250 |Disc loss 1.096046773341186e-07 |Disc acc 1.0 |Adv loss 1.1967499347065313e-07 |Adv acc 1.0\n",
      "206th batch of 250 |Disc loss 1.096046773341186e-07 |Disc acc 1.0 |Adv loss 1.192093321833454e-07 |Adv acc 1.0\n",
      "207th batch of 250 |Disc loss 1.096046773341186e-07 |Disc acc 1.0 |Adv loss 1.192093321833454e-07 |Adv acc 1.0\n",
      "208th batch of 250 |Disc loss 1.124230522009384e-07 |Disc acc 1.0 |Adv loss 1.192093321833454e-07 |Adv acc 1.0\n",
      "209th batch of 250 |Disc loss 1.0992987853342129e-07 |Disc acc 1.0 |Adv loss 1.192093321833454e-07 |Adv acc 1.0\n",
      "210th batch of 250 |Disc loss 1.096046773341186e-07 |Disc acc 1.0 |Adv loss 1.192093321833454e-07 |Adv acc 1.0\n",
      "211th batch of 250 |Disc loss 1.096046773341186e-07 |Disc acc 1.0 |Adv loss 1.192093321833454e-07 |Adv acc 1.0\n",
      "212th batch of 250 |Disc loss 1.096046773341186e-07 |Disc acc 1.0 |Adv loss 1.192093321833454e-07 |Adv acc 1.0\n",
      "213th batch of 250 |Disc loss 1.0964797070300847e-07 |Disc acc 1.0 |Adv loss 1.192093321833454e-07 |Adv acc 1.0\n",
      "214th batch of 250 |Disc loss 1.3254482666980039e-07 |Disc acc 1.0 |Adv loss 1.192093321833454e-07 |Adv acc 1.0\n",
      "215th batch of 250 |Disc loss 1.096046773341186e-07 |Disc acc 1.0 |Adv loss 1.192093321833454e-07 |Adv acc 1.0\n",
      "216th batch of 250 |Disc loss 1.1013499090495316e-07 |Disc acc 1.0 |Adv loss 1.192093321833454e-07 |Adv acc 1.0\n",
      "217th batch of 250 |Disc loss 1.096046773341186e-07 |Disc acc 1.0 |Adv loss 1.192093321833454e-07 |Adv acc 1.0\n",
      "218th batch of 250 |Disc loss 1.1089009177567277e-07 |Disc acc 1.0 |Adv loss 1.192093321833454e-07 |Adv acc 1.0\n",
      "219th batch of 250 |Disc loss 1.096046773341186e-07 |Disc acc 1.0 |Adv loss 1.192093321833454e-07 |Adv acc 1.0\n",
      "220th batch of 250 |Disc loss 1.096046773341186e-07 |Disc acc 1.0 |Adv loss 1.192093321833454e-07 |Adv acc 1.0\n",
      "221th batch of 250 |Disc loss 1.1016436474164948e-07 |Disc acc 1.0 |Adv loss 1.192093321833454e-07 |Adv acc 1.0\n",
      "222th batch of 250 |Disc loss 1.096046773341186e-07 |Disc acc 1.0 |Adv loss 1.192093321833454e-07 |Adv acc 1.0\n",
      "223th batch of 250 |Disc loss 1.096046773341186e-07 |Disc acc 1.0 |Adv loss 1.192093321833454e-07 |Adv acc 1.0\n",
      "224th batch of 250 |Disc loss 1.096046773341186e-07 |Disc acc 1.0 |Adv loss 1.192093321833454e-07 |Adv acc 1.0\n"
     ]
    },
    {
     "name": "stdout",
     "output_type": "stream",
     "text": [
      "225th batch of 250 |Disc loss 1.096046773341186e-07 |Disc acc 1.0 |Adv loss 1.192093321833454e-07 |Adv acc 1.0\n",
      "226th batch of 250 |Disc loss 1.0962646967982437e-07 |Disc acc 1.0 |Adv loss 1.192093321833454e-07 |Adv acc 1.0\n",
      "227th batch of 250 |Disc loss 1.1053599990873408e-07 |Disc acc 1.0 |Adv loss 1.192093321833454e-07 |Adv acc 1.0\n",
      "228th batch of 250 |Disc loss 1.096046773341186e-07 |Disc acc 1.0 |Adv loss 1.192093321833454e-07 |Adv acc 1.0\n",
      "229th batch of 250 |Disc loss 1.096046773341186e-07 |Disc acc 1.0 |Adv loss 1.192093321833454e-07 |Adv acc 1.0\n",
      "230th batch of 250 |Disc loss 1.0979901077234899e-07 |Disc acc 1.0 |Adv loss 1.192093321833454e-07 |Adv acc 1.0\n",
      "231th batch of 250 |Disc loss 1.0978946818340773e-07 |Disc acc 1.0 |Adv loss 1.192093321833454e-07 |Adv acc 1.0\n",
      "232th batch of 250 |Disc loss 1.0984219045440113e-07 |Disc acc 1.0 |Adv loss 1.192093321833454e-07 |Adv acc 1.0\n",
      "233th batch of 250 |Disc loss 1.096046773341186e-07 |Disc acc 1.0 |Adv loss 1.192093321833454e-07 |Adv acc 1.0\n",
      "234th batch of 250 |Disc loss 1.096046773341186e-07 |Disc acc 1.0 |Adv loss 1.192093321833454e-07 |Adv acc 1.0\n",
      "235th batch of 250 |Disc loss 1.096046773341186e-07 |Disc acc 1.0 |Adv loss 1.192093321833454e-07 |Adv acc 1.0\n",
      "236th batch of 250 |Disc loss 1.096046773341186e-07 |Disc acc 1.0 |Adv loss 1.192093321833454e-07 |Adv acc 1.0\n",
      "237th batch of 250 |Disc loss 1.1011029243945814e-07 |Disc acc 1.0 |Adv loss 1.192093321833454e-07 |Adv acc 1.0\n",
      "238th batch of 250 |Disc loss 1.1324099347120864e-07 |Disc acc 1.0 |Adv loss 1.192093321833454e-07 |Adv acc 1.0\n",
      "239th batch of 250 |Disc loss 1.1011232459168241e-07 |Disc acc 1.0 |Adv loss 1.192093321833454e-07 |Adv acc 1.0\n",
      "240th batch of 250 |Disc loss 1.1100727448365433e-07 |Disc acc 1.0 |Adv loss 1.192093321833454e-07 |Adv acc 1.0\n",
      "241th batch of 250 |Disc loss 1.096046773341186e-07 |Disc acc 1.0 |Adv loss 1.192093321833454e-07 |Adv acc 1.0\n",
      "242th batch of 250 |Disc loss 1.096046773341186e-07 |Disc acc 1.0 |Adv loss 1.192093321833454e-07 |Adv acc 1.0\n",
      "243th batch of 250 |Disc loss 1.096046773341186e-07 |Disc acc 1.0 |Adv loss 1.192093321833454e-07 |Adv acc 1.0\n",
      "244th batch of 250 |Disc loss 1.096046773341186e-07 |Disc acc 1.0 |Adv loss 1.192093321833454e-07 |Adv acc 1.0\n",
      "245th batch of 250 |Disc loss 1.096046773341186e-07 |Disc acc 1.0 |Adv loss 1.192093321833454e-07 |Adv acc 1.0\n",
      "246th batch of 250 |Disc loss 1.1059601234819638e-07 |Disc acc 1.0 |Adv loss 1.192093321833454e-07 |Adv acc 1.0\n",
      "247th batch of 250 |Disc loss 1.096046773341186e-07 |Disc acc 1.0 |Adv loss 1.192093321833454e-07 |Adv acc 1.0\n",
      "248th batch of 250 |Disc loss 1.0961466756498339e-07 |Disc acc 1.0 |Adv loss 1.1967499347065313e-07 |Adv acc 1.0\n",
      "249th batch of 250 |Disc loss 1.1182594050751504e-07 |Disc acc 1.0 |Adv loss 1.192093321833454e-07 |Adv acc 1.0\n",
      "250th batch of 250 |Disc loss 1.096046773341186e-07 |Disc acc 1.0 |Adv loss 1.192093321833454e-07 |Adv acc 1.0\n"
     ]
    }
   ],
   "source": [
    "batch_size = 256\n",
    "train_iters = 250\n",
    "\n",
    "disc_losses = {\"loss\": [], \"acc\": []}\n",
    "adv_losses = {\"loss\": [], \"acc\": []}\n",
    "\n",
    "for i in range(train_iters):\n",
    "    # Get random real images\n",
    "    images_true = X_train[np.random.randint(0, \n",
    "                                            X_train.shape[0], \n",
    "                                            size=batch_size)]\n",
    "    # Generate images from noise\n",
    "    noise = np.random.uniform(-1.0, 1.0, \n",
    "                              size=[batch_size, gen_noise_dim])\n",
    "    images_fake = gennet.predict(noise)\n",
    "    # Compose training data for discriminator\n",
    "    x = np.concatenate((images_fake, images_true))\n",
    "    y = np.concatenate((np.ones((batch_size, 1)), \n",
    "                        np.zeros((batch_size, 1))))\n",
    "    # Train discriminator on composed data\n",
    "    dics_loss = discmodel.train_on_batch(x, y)\n",
    "    disc_losses[\"loss\"].append(dics_loss[0])\n",
    "    disc_losses[\"acc\"].append(dics_loss[1])\n",
    "    \n",
    "    # Compose trainig data for adversarial net\n",
    "    noise = np.random.uniform(-1.0, 1.0, \n",
    "                              size=[batch_size, gen_noise_dim])\n",
    "    y = np.ones([batch_size, 1])\n",
    "    # Train adversarial net on composed data\n",
    "    adv_loss = advmodel.train_on_batch(noise, y)\n",
    "    adv_losses[\"loss\"].append(adv_loss[0])\n",
    "    adv_losses[\"acc\"].append(adv_loss[1])\n",
    "    \n",
    "    # Print results\n",
    "    print(\"{}th batch of {} |Disc loss {} |Disc acc {} |Adv loss {} |Adv acc {}\".format(i+1, train_iters,\n",
    "                                                                                       dics_loss[0], dics_loss[1], \n",
    "                                                                                       adv_loss[0], adv_loss[1]))"
   ]
  },
  {
   "cell_type": "markdown",
   "metadata": {},
   "source": [
    "## Discriminator losses"
   ]
  },
  {
   "cell_type": "code",
   "execution_count": 16,
   "metadata": {},
   "outputs": [
    {
     "data": {
      "image/png": "[encoded data removed]",
      "text/plain": [
       "<matplotlib.figure.Figure at 0x7f3db085fb38>"
      ]
     },
     "metadata": {},
     "output_type": "display_data"
    }
   ],
   "source": [
    "plt.plot(list(range(train_iters)), disc_losses[\"loss\"])\n",
    "plt.grid()"
   ]
  },
  {
   "cell_type": "markdown",
   "metadata": {},
   "source": [
    "## Adversarial net losses"
   ]
  },
  {
   "cell_type": "code",
   "execution_count": 17,
   "metadata": {},
   "outputs": [
    {
     "data": {
      "image/png": "[encoded data removed]",
      "text/plain": [
       "<matplotlib.figure.Figure at 0x7f3b4d20d400>"
      ]
     },
     "metadata": {},
     "output_type": "display_data"
    }
   ],
   "source": [
    "plt.plot(list(range(train_iters)), adv_losses[\"loss\"])\n",
    "plt.grid()"
   ]
  },
  {
   "cell_type": "markdown",
   "metadata": {},
   "source": [
    "## An attempt to generate images"
   ]
  },
  {
   "cell_type": "code",
   "execution_count": 20,
   "metadata": {},
   "outputs": [
    {
     "data": {
      "image/png": "[encoded data removed]",
      "text/plain": [
       "<matplotlib.figure.Figure at 0x7f3b4c8cacc0>"
      ]
     },
     "metadata": {},
     "output_type": "display_data"
    }
   ],
   "source": [
    "noise = np.random.uniform(-1.0, 1.0, size=[1, gen_noise_dim])\n",
    "fake_image = gennet.predict(noise)\n",
    "draw_image(fake_image.reshape((28, 28)))"
   ]
  },
  {
   "cell_type": "code",
   "execution_count": null,
   "metadata": {},
   "outputs": [],
   "source": []
  }
 ],
 "metadata": {
  "kernelspec": {
   "display_name": "Python 3",
   "language": "python",
   "name": "python3"
  },
  "language_info": {
   "codemirror_mode": {
    "name": "ipython",
    "version": 3
   },
   "file_extension": ".py",
   "mimetype": "text/x-python",
   "name": "python",
   "nbconvert_exporter": "python",
   "pygments_lexer": "ipython3",
   "version": "3.5.2"
  }
 },
 "nbformat": 4,
 "nbformat_minor": 2
}
