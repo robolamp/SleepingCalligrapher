{
 "cells": [
  {
   "cell_type": "markdown",
   "metadata": {},
   "source": [
    "# Digits generator"
   ]
  },
  {
   "cell_type": "code",
   "execution_count": 1,
   "metadata": {},
   "outputs": [],
   "source": [
    "import pandas as pd\n",
    "import numpy as np\n",
    "import matplotlib.pyplot as plt\n",
    "\n",
    "%matplotlib inline"
   ]
  },
  {
   "cell_type": "code",
   "execution_count": 2,
   "metadata": {},
   "outputs": [
    {
     "name": "stderr",
     "output_type": "stream",
     "text": [
      "Using TensorFlow backend.\n"
     ]
    }
   ],
   "source": [
    "from keras.models import Sequential\n",
    "from keras.layers.core import Dense, Dropout, Activation, Reshape, Flatten\n",
    "from keras.layers.normalization import BatchNormalization\n",
    "from keras.layers.convolutional import UpSampling2D, Conv2DTranspose, Conv2D\n",
    "\n",
    "from keras.optimizers import SGD, RMSprop"
   ]
  },
  {
   "cell_type": "markdown",
   "metadata": {},
   "source": [
    "## Data"
   ]
  },
  {
   "cell_type": "code",
   "execution_count": 3,
   "metadata": {},
   "outputs": [
    {
     "name": "stdout",
     "output_type": "stream",
     "text": [
      "Extracting MNIST_data/train-images-idx3-ubyte.gz\n",
      "Extracting MNIST_data/train-labels-idx1-ubyte.gz\n",
      "Extracting MNIST_data/t10k-images-idx3-ubyte.gz\n",
      "Extracting MNIST_data/t10k-labels-idx1-ubyte.gz\n"
     ]
    }
   ],
   "source": [
    "from tensorflow.examples.tutorials.mnist import input_data\n",
    "mnist = input_data.read_data_sets(\"MNIST_data/\", one_hot=True)"
   ]
  },
  {
   "cell_type": "markdown",
   "metadata": {},
   "source": [
    "## Visualisation"
   ]
  },
  {
   "cell_type": "code",
   "execution_count": 4,
   "metadata": {},
   "outputs": [],
   "source": [
    "def reshape_image(pixels):\n",
    "    npix = int(np.sqrt(pixels.shape[0]))\n",
    "    return np.reshape(pixels, (npix, npix))\n",
    "\n",
    "def draw_image(image):\n",
    "    image = np.reshape(image, (image.shape[0], image.shape[1]))\n",
    "    plt.imshow(image, cmap = plt.get_cmap('gray'))\n",
    "    plt.axis('off')\n",
    "    plt.show()"
   ]
  },
  {
   "cell_type": "code",
   "execution_count": 5,
   "metadata": {},
   "outputs": [],
   "source": [
    "# draw_image(reshape_image(mnist.train.images[0]))"
   ]
  },
  {
   "cell_type": "code",
   "execution_count": 6,
   "metadata": {},
   "outputs": [],
   "source": [
    "X_train = mnist.train.images.reshape(-1,  \n",
    "                                     28, \n",
    "                                     28, \n",
    "                                     1).astype(np.float32)\n",
    "y_train = mnist.train.labels"
   ]
  },
  {
   "cell_type": "code",
   "execution_count": 7,
   "metadata": {},
   "outputs": [
    {
     "data": {
      "image/png": "[encoded data removed]",
      "text/plain": [
       "<matplotlib.figure.Figure at 0x7f964dfae9e8>"
      ]
     },
     "metadata": {},
     "output_type": "display_data"
    },
    {
     "data": {
      "text/plain": [
       "(None, array([ 1.,  0.,  0.,  0.,  0.,  0.,  0.,  0.,  0.,  0.]))"
      ]
     },
     "execution_count": 7,
     "metadata": {},
     "output_type": "execute_result"
    }
   ],
   "source": [
    "draw_image(X_train[10]), y_train[10]"
   ]
  },
  {
   "cell_type": "code",
   "execution_count": 8,
   "metadata": {},
   "outputs": [
    {
     "data": {
      "text/plain": [
       "(55000, 28, 28, 1)"
      ]
     },
     "execution_count": 8,
     "metadata": {},
     "output_type": "execute_result"
    }
   ],
   "source": [
    "X_train.shape"
   ]
  },
  {
   "cell_type": "markdown",
   "metadata": {},
   "source": [
    "# GAN example\n",
    "## Generator"
   ]
  },
  {
   "cell_type": "code",
   "execution_count": 9,
   "metadata": {},
   "outputs": [],
   "source": [
    "gen_dropout = 0.4\n",
    "gen_input_dim = 7\n",
    "gen_depth = 128\n",
    "gen_noise_dim = 100"
   ]
  },
  {
   "cell_type": "code",
   "execution_count": 10,
   "metadata": {},
   "outputs": [
    {
     "name": "stdout",
     "output_type": "stream",
     "text": [
      "_________________________________________________________________\n",
      "Layer (type)                 Output Shape              Param #   \n",
      "=================================================================\n",
      "dense_1 (Dense)              (None, 6272)              633472    \n",
      "_________________________________________________________________\n",
      "batch_normalization_1 (Batch (None, 6272)              25088     \n",
      "_________________________________________________________________\n",
      "activation_1 (Activation)    (None, 6272)              0         \n",
      "_________________________________________________________________\n",
      "reshape_1 (Reshape)          (None, 7, 7, 128)         0         \n",
      "_________________________________________________________________\n",
      "dropout_1 (Dropout)          (None, 7, 7, 128)         0         \n",
      "_________________________________________________________________\n",
      "up_sampling2d_1 (UpSampling2 (None, 14, 14, 128)       0         \n",
      "_________________________________________________________________\n",
      "conv2d_transpose_1 (Conv2DTr (None, 14, 14, 64)        204864    \n",
      "_________________________________________________________________\n",
      "batch_normalization_2 (Batch (None, 14, 14, 64)        256       \n",
      "_________________________________________________________________\n",
      "activation_2 (Activation)    (None, 14, 14, 64)        0         \n",
      "_________________________________________________________________\n",
      "up_sampling2d_2 (UpSampling2 (None, 28, 28, 64)        0         \n",
      "_________________________________________________________________\n",
      "conv2d_transpose_2 (Conv2DTr (None, 28, 28, 32)        51232     \n",
      "_________________________________________________________________\n",
      "batch_normalization_3 (Batch (None, 28, 28, 32)        128       \n",
      "_________________________________________________________________\n",
      "activation_3 (Activation)    (None, 28, 28, 32)        0         \n",
      "_________________________________________________________________\n",
      "conv2d_transpose_3 (Conv2DTr (None, 28, 28, 16)        12816     \n",
      "_________________________________________________________________\n",
      "batch_normalization_4 (Batch (None, 28, 28, 16)        64        \n",
      "_________________________________________________________________\n",
      "activation_4 (Activation)    (None, 28, 28, 16)        0         \n",
      "_________________________________________________________________\n",
      "conv2d_transpose_4 (Conv2DTr (None, 28, 28, 1)         401       \n",
      "_________________________________________________________________\n",
      "activation_5 (Activation)    (None, 28, 28, 1)         0         \n",
      "=================================================================\n",
      "Total params: 928,321\n",
      "Trainable params: 915,553\n",
      "Non-trainable params: 12,768\n",
      "_________________________________________________________________\n"
     ]
    }
   ],
   "source": [
    "gennet = Sequential()\n",
    "\n",
    "# Input \n",
    "# fully-connected layer\n",
    "gennet.add(Dense(gen_input_dim * gen_input_dim * gen_depth, \n",
    "                 input_dim=gen_noise_dim))\n",
    "gennet.add(BatchNormalization(momentum=0.9))\n",
    "gennet.add(Activation('relu'))\n",
    "gennet.add(Reshape((gen_input_dim, gen_input_dim, gen_depth)))\n",
    "gennet.add(Dropout(gen_dropout))\n",
    "\n",
    "# Deconvolution layers\n",
    "gennet.add(UpSampling2D())\n",
    "gennet.add(Conv2DTranspose(int(gen_depth / 2), 5, padding='same'))\n",
    "gennet.add(BatchNormalization(momentum=0.9))\n",
    "gennet.add(Activation('relu'))\n",
    "\n",
    "gennet.add(UpSampling2D())\n",
    "gennet.add(Conv2DTranspose(int(gen_depth / 4), 5, padding='same'))\n",
    "gennet.add(BatchNormalization(momentum=0.9))\n",
    "gennet.add(Activation('relu'))\n",
    "\n",
    "gennet.add(Conv2DTranspose(int(gen_depth / 8), 5, padding='same'))\n",
    "gennet.add(BatchNormalization(momentum=0.9))\n",
    "gennet.add(Activation('relu'))\n",
    "\n",
    "# Output\n",
    "gennet.add(Conv2DTranspose(1, 5, padding='same'))\n",
    "gennet.add(Activation('sigmoid'))\n",
    "\n",
    "gennet.summary()"
   ]
  },
  {
   "cell_type": "markdown",
   "metadata": {},
   "source": [
    "## Discriminator"
   ]
  },
  {
   "cell_type": "code",
   "execution_count": 11,
   "metadata": {},
   "outputs": [],
   "source": [
    "disc_depth = 64\n",
    "disc_dropout = 0.4"
   ]
  },
  {
   "cell_type": "code",
   "execution_count": 12,
   "metadata": {},
   "outputs": [
    {
     "name": "stdout",
     "output_type": "stream",
     "text": [
      "_________________________________________________________________\n",
      "Layer (type)                 Output Shape              Param #   \n",
      "=================================================================\n",
      "conv2d_1 (Conv2D)            (None, 14, 14, 64)        1664      \n",
      "_________________________________________________________________\n",
      "activation_6 (Activation)    (None, 14, 14, 64)        0         \n",
      "_________________________________________________________________\n",
      "dropout_2 (Dropout)          (None, 14, 14, 64)        0         \n",
      "_________________________________________________________________\n",
      "conv2d_2 (Conv2D)            (None, 7, 7, 128)         204928    \n",
      "_________________________________________________________________\n",
      "activation_7 (Activation)    (None, 7, 7, 128)         0         \n",
      "_________________________________________________________________\n",
      "dropout_3 (Dropout)          (None, 7, 7, 128)         0         \n",
      "_________________________________________________________________\n",
      "conv2d_3 (Conv2D)            (None, 4, 4, 256)         819456    \n",
      "_________________________________________________________________\n",
      "activation_8 (Activation)    (None, 4, 4, 256)         0         \n",
      "_________________________________________________________________\n",
      "dropout_4 (Dropout)          (None, 4, 4, 256)         0         \n",
      "_________________________________________________________________\n",
      "conv2d_4 (Conv2D)            (None, 2, 2, 512)         3277312   \n",
      "_________________________________________________________________\n",
      "activation_9 (Activation)    (None, 2, 2, 512)         0         \n",
      "_________________________________________________________________\n",
      "dropout_5 (Dropout)          (None, 2, 2, 512)         0         \n",
      "_________________________________________________________________\n",
      "flatten_1 (Flatten)          (None, 2048)              0         \n",
      "_________________________________________________________________\n",
      "dense_2 (Dense)              (None, 1)                 2049      \n",
      "_________________________________________________________________\n",
      "activation_10 (Activation)   (None, 1)                 0         \n",
      "=================================================================\n",
      "Total params: 4,305,409\n",
      "Trainable params: 4,305,409\n",
      "Non-trainable params: 0\n",
      "_________________________________________________________________\n"
     ]
    }
   ],
   "source": [
    "discnet = Sequential()\n",
    "\n",
    "# Input\n",
    "discnet.add(Conv2D(disc_depth, 5, strides=2, input_shape=(28, 28, 1), \n",
    "                   padding='same'))\n",
    "discnet.add(Activation('relu'))\n",
    "discnet.add(Dropout(disc_dropout))\n",
    "\n",
    "discnet.add(Conv2D(disc_depth*2, 5, strides=2, padding='same'))\n",
    "discnet.add(Activation('relu'))\n",
    "discnet.add(Dropout(disc_dropout))\n",
    "\n",
    "discnet.add(Conv2D(disc_depth*4, 5, strides=2, padding='same'))\n",
    "discnet.add(Activation('relu'))\n",
    "discnet.add(Dropout(disc_dropout))\n",
    "\n",
    "discnet.add(Conv2D(disc_depth*8, 5, strides=2, padding='same'))\n",
    "discnet.add(Activation('relu'))\n",
    "discnet.add(Dropout(disc_dropout))\n",
    "\n",
    "# Out: scalar estimation of probability\n",
    "discnet.add(Flatten())\n",
    "discnet.add(Dense(1))\n",
    "discnet.add(Activation('sigmoid'))\n",
    "\n",
    "discnet.summary()"
   ]
  },
  {
   "cell_type": "markdown",
   "metadata": {},
   "source": [
    "## Discriminator model"
   ]
  },
  {
   "cell_type": "code",
   "execution_count": 13,
   "metadata": {},
   "outputs": [],
   "source": [
    "discmodel = Sequential()\n",
    "discmodel.add(discnet)\n",
    "discmodel.compile(loss='binary_crossentropy', \n",
    "                  optimizer=RMSprop(lr=0.0008, clipvalue=1.0, decay=6e-8),\n",
    "                  metrics=['accuracy'])"
   ]
  },
  {
   "cell_type": "markdown",
   "metadata": {},
   "source": [
    "## Adversarial model"
   ]
  },
  {
   "cell_type": "code",
   "execution_count": 14,
   "metadata": {},
   "outputs": [],
   "source": [
    "advmodel = Sequential()\n",
    "advmodel.add(gennet)\n",
    "advmodel.add(discnet)\n",
    "advmodel.compile(loss='binary_crossentropy', \n",
    "                 optimizer=RMSprop(lr=0.00084, clipvalue=1.0, decay=3e-8),\n",
    "                 metrics=['accuracy'])"
   ]
  },
  {
   "cell_type": "markdown",
   "metadata": {},
   "source": [
    "## Training"
   ]
  },
  {
   "cell_type": "code",
   "execution_count": 15,
   "metadata": {
    "scrolled": true
   },
   "outputs": [
    {
     "name": "stdout",
     "output_type": "stream",
     "text": [
      "0th batch of 24 |Disc loss 0.6922256946563721 |Disc acc 0.50390625 |Adv loss 2.919940948486328 |Adv acc 0.0\n",
      "1th batch of 24 |Disc loss 2.252134084701538 |Disc acc 0.5 |Adv loss 0.6689339280128479 |Adv acc 1.0\n",
      "2th batch of 24 |Disc loss 0.6758721470832825 |Disc acc 0.5 |Adv loss 0.5382975339889526 |Adv acc 1.0\n",
      "3th batch of 24 |Disc loss 3.1863808631896973 |Disc acc 0.5 |Adv loss 0.5645334720611572 |Adv acc 1.0\n",
      "4th batch of 24 |Disc loss 1.1325609683990479 |Disc acc 0.5 |Adv loss 0.27526870369911194 |Adv acc 1.0\n",
      "5th batch of 24 |Disc loss 4.745449066162109 |Disc acc 0.5 |Adv loss 0.1960393786430359 |Adv acc 1.0\n",
      "6th batch of 24 |Disc loss 3.048783540725708 |Disc acc 0.5 |Adv loss 0.06591179221868515 |Adv acc 1.0\n",
      "7th batch of 24 |Disc loss 1.7313988208770752 |Disc acc 0.5 |Adv loss 0.04231132194399834 |Adv acc 1.0\n",
      "8th batch of 24 |Disc loss 1.0427390336990356 |Disc acc 0.5 |Adv loss 0.026694100350141525 |Adv acc 1.0\n",
      "9th batch of 24 |Disc loss 0.5862599611282349 |Disc acc 0.5 |Adv loss 0.009341040626168251 |Adv acc 1.0\n",
      "10th batch of 24 |Disc loss 0.345940500497818 |Disc acc 0.84765625 |Adv loss 8.372033335035667e-05 |Adv acc 1.0\n",
      "11th batch of 24 |Disc loss 0.3199213147163391 |Disc acc 1.0 |Adv loss 6.742753612343222e-05 |Adv acc 1.0\n",
      "12th batch of 24 |Disc loss 0.22077174484729767 |Disc acc 1.0 |Adv loss 0.00016684483853168786 |Adv acc 1.0\n",
      "13th batch of 24 |Disc loss 0.029360152781009674 |Disc acc 1.0 |Adv loss 0.00035055962507613003 |Adv acc 1.0\n",
      "14th batch of 24 |Disc loss 0.0009473577374592423 |Disc acc 1.0 |Adv loss 1.102064379665535e-05 |Adv acc 1.0\n",
      "15th batch of 24 |Disc loss 0.0005692611448466778 |Disc acc 1.0 |Adv loss 9.613059773982968e-06 |Adv acc 1.0\n",
      "16th batch of 24 |Disc loss 0.000348276604199782 |Disc acc 1.0 |Adv loss 6.769901574443793e-06 |Adv acc 1.0\n",
      "17th batch of 24 |Disc loss 0.00025624316185712814 |Disc acc 1.0 |Adv loss 5.014325324737001e-06 |Adv acc 1.0\n",
      "18th batch of 24 |Disc loss 0.0002201239112764597 |Disc acc 1.0 |Adv loss 2.8452086553443223e-06 |Adv acc 1.0\n",
      "19th batch of 24 |Disc loss 0.0001475595636293292 |Disc acc 1.0 |Adv loss 3.1376541755889775e-06 |Adv acc 1.0\n",
      "20th batch of 24 |Disc loss 0.00012361894187051803 |Disc acc 1.0 |Adv loss 2.476418330843444e-06 |Adv acc 1.0\n",
      "21th batch of 24 |Disc loss 0.00010524557728786021 |Disc acc 1.0 |Adv loss 1.8710397853283212e-06 |Adv acc 1.0\n",
      "22th batch of 24 |Disc loss 8.658191654831171e-05 |Disc acc 1.0 |Adv loss 4.382315182738239e-06 |Adv acc 1.0\n",
      "23th batch of 24 |Disc loss 9.073894034372643e-05 |Disc acc 1.0 |Adv loss 7.646170274711039e-07 |Adv acc 1.0\n"
     ]
    }
   ],
   "source": [
    "batch_size = 128\n",
    "train_iters = 24\n",
    "\n",
    "disc_losses = {\"loss\": [], \"acc\": []}\n",
    "adv_losses = {\"loss\": [], \"acc\": []}\n",
    "\n",
    "for i in range(train_iters):\n",
    "    # Get random real images\n",
    "    images_true = X_train[np.random.randint(0, \n",
    "                                            X_train.shape[0], \n",
    "                                            size=batch_size)]\n",
    "    # Generate images from noise\n",
    "    noise = np.random.uniform(-1.0, 1.0, \n",
    "                              size=[batch_size, gen_noise_dim])\n",
    "    images_fake = gennet.predict(noise)\n",
    "    # Compose training data for discriminator\n",
    "    x = np.concatenate((images_fake, images_true))\n",
    "    y = np.concatenate((np.zeros((batch_size, 1)), \n",
    "                        np.ones((batch_size, 1))))\n",
    "    # Train discriminator on composed data\n",
    "    dics_loss = discmodel.train_on_batch(x, y)\n",
    "    disc_losses[\"loss\"].append(dics_loss[0])\n",
    "    disc_losses[\"acc\"].append(dics_loss[1])\n",
    "    \n",
    "    # Compose trainig data for adversarial net\n",
    "    noise = np.random.uniform(-1.0, 1.0, \n",
    "                              size=[batch_size, gen_noise_dim])\n",
    "    y = np.ones([batch_size, 1])\n",
    "    # Train adversarial net on composed data\n",
    "    adv_loss = advmodel.train_on_batch(noise, y)\n",
    "    adv_losses[\"loss\"].append(adv_loss[0])\n",
    "    adv_losses[\"acc\"].append(adv_loss[1])\n",
    "    \n",
    "    # Print results\n",
    "    print(\"{}th batch of {} |Disc loss {} |Disc acc {} |Adv loss {} |Adv acc {}\".format(i, train_iters,\n",
    "                                                                                       dics_loss[0], dics_loss[1], \n",
    "                                                                                       adv_loss[0], adv_loss[1]))"
   ]
  },
  {
   "cell_type": "markdown",
   "metadata": {},
   "source": [
    "## Discriminator losses"
   ]
  },
  {
   "cell_type": "code",
   "execution_count": 16,
   "metadata": {},
   "outputs": [
    {
     "data": {
      "image/png": "[encoded data removed]",
      "text/plain": [
       "<matplotlib.figure.Figure at 0x7f9649be18d0>"
      ]
     },
     "metadata": {},
     "output_type": "display_data"
    }
   ],
   "source": [
    "plt.plot(list(range(train_iters)), disc_losses[\"loss\"])\n",
    "plt.grid()"
   ]
  },
  {
   "cell_type": "markdown",
   "metadata": {},
   "source": [
    "## Adversarial net losses"
   ]
  },
  {
   "cell_type": "code",
   "execution_count": 17,
   "metadata": {},
   "outputs": [
    {
     "data": {
      "image/png": "[encoded data removed]",
      "text/plain": [
       "<matplotlib.figure.Figure at 0x7f964df60ef0>"
      ]
     },
     "metadata": {},
     "output_type": "display_data"
    }
   ],
   "source": [
    "plt.plot(list(range(train_iters)), adv_losses[\"loss\"])\n",
    "plt.grid()"
   ]
  },
  {
   "cell_type": "markdown",
   "metadata": {},
   "source": [
    "## An attempt to generate images"
   ]
  },
  {
   "cell_type": "code",
   "execution_count": 19,
   "metadata": {},
   "outputs": [
    {
     "data": {
      "image/png": "[encoded data removed]",
      "text/plain": [
       "<matplotlib.figure.Figure at 0x7f95d9194278>"
      ]
     },
     "metadata": {},
     "output_type": "display_data"
    }
   ],
   "source": [
    "noise = np.random.uniform(-1.0, 1.0, size=[1, gen_noise_dim])\n",
    "fake_image = gennet.predict(noise)\n",
    "draw_image(fake_image.reshape((28, 28)))"
   ]
  },
  {
   "cell_type": "code",
   "execution_count": null,
   "metadata": {},
   "outputs": [],
   "source": []
  }
 ],
 "metadata": {
  "kernelspec": {
   "display_name": "Python 3",
   "language": "python",
   "name": "python3"
  },
  "language_info": {
   "codemirror_mode": {
    "name": "ipython",
    "version": 3
   },
   "file_extension": ".py",
   "mimetype": "text/x-python",
   "name": "python",
   "nbconvert_exporter": "python",
   "pygments_lexer": "ipython3",
   "version": "3.5.2"
  }
 },
 "nbformat": 4,
 "nbformat_minor": 2
}
