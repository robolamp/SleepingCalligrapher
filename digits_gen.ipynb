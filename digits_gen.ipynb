{
 "cells": [
  {
   "cell_type": "markdown",
   "metadata": {},
   "source": [
    "# Digits generator"
   ]
  },
  {
   "cell_type": "code",
   "execution_count": 1,
   "metadata": {},
   "outputs": [],
   "source": [
    "import pandas as pd\n",
    "import numpy as np\n",
    "import matplotlib.pyplot as plt\n",
    "\n",
    "%matplotlib inline"
   ]
  },
  {
   "cell_type": "code",
   "execution_count": 2,
   "metadata": {},
   "outputs": [
    {
     "name": "stderr",
     "output_type": "stream",
     "text": [
      "Using TensorFlow backend.\n"
     ]
    }
   ],
   "source": [
    "from keras.models import Sequential\n",
    "from keras.layers.core import Dense, Dropout, Activation, Reshape, Flatten\n",
    "from keras.layers.normalization import BatchNormalization\n",
    "from keras.layers.convolutional import UpSampling2D, Conv2DTranspose, Conv2D\n",
    "\n",
    "from keras.optimizers import SGD, RMSprop"
   ]
  },
  {
   "cell_type": "markdown",
   "metadata": {},
   "source": [
    "## Data"
   ]
  },
  {
   "cell_type": "code",
   "execution_count": 3,
   "metadata": {},
   "outputs": [
    {
     "name": "stdout",
     "output_type": "stream",
     "text": [
      "Extracting MNIST_data/train-images-idx3-ubyte.gz\n",
      "Extracting MNIST_data/train-labels-idx1-ubyte.gz\n",
      "Extracting MNIST_data/t10k-images-idx3-ubyte.gz\n",
      "Extracting MNIST_data/t10k-labels-idx1-ubyte.gz\n"
     ]
    }
   ],
   "source": [
    "from tensorflow.examples.tutorials.mnist import input_data\n",
    "mnist = input_data.read_data_sets(\"MNIST_data/\", one_hot=True)"
   ]
  },
  {
   "cell_type": "markdown",
   "metadata": {},
   "source": [
    "## Visualisation"
   ]
  },
  {
   "cell_type": "code",
   "execution_count": 4,
   "metadata": {},
   "outputs": [],
   "source": [
    "def reshape_image(pixels):\n",
    "    npix = int(np.sqrt(pixels.shape[0]))\n",
    "    return np.reshape(pixels, (npix, npix))\n",
    "\n",
    "def draw_image(image):\n",
    "    image = np.reshape(image, (image.shape[0], image.shape[1]))\n",
    "    plt.imshow(image, cmap = plt.get_cmap('gray'))\n",
    "    plt.axis('off')\n",
    "    plt.show()"
   ]
  },
  {
   "cell_type": "code",
   "execution_count": 5,
   "metadata": {},
   "outputs": [],
   "source": [
    "# draw_image(reshape_image(mnist.train.images[0]))"
   ]
  },
  {
   "cell_type": "code",
   "execution_count": 6,
   "metadata": {},
   "outputs": [],
   "source": [
    "X_train = mnist.train.images.reshape(-1,  \n",
    "                                     28, \n",
    "                                     28, \n",
    "                                     1).astype(np.float32)\n",
    "y_train = mnist.train.labels"
   ]
  },
  {
   "cell_type": "code",
   "execution_count": 7,
   "metadata": {},
   "outputs": [
    {
     "data": {
      "image/png": "[encoded data removed]",
      "text/plain": [
       "<matplotlib.figure.Figure at 0x7f9c21e6d978>"
      ]
     },
     "metadata": {},
     "output_type": "display_data"
    },
    {
     "data": {
      "text/plain": [
       "(None, array([ 1.,  0.,  0.,  0.,  0.,  0.,  0.,  0.,  0.,  0.]))"
      ]
     },
     "execution_count": 7,
     "metadata": {},
     "output_type": "execute_result"
    }
   ],
   "source": [
    "draw_image(X_train[10]), y_train[10]"
   ]
  },
  {
   "cell_type": "code",
   "execution_count": 8,
   "metadata": {},
   "outputs": [
    {
     "data": {
      "text/plain": [
       "(55000, 28, 28, 1)"
      ]
     },
     "execution_count": 8,
     "metadata": {},
     "output_type": "execute_result"
    }
   ],
   "source": [
    "X_train.shape"
   ]
  },
  {
   "cell_type": "markdown",
   "metadata": {},
   "source": [
    "# GAN example\n",
    "## Generator"
   ]
  },
  {
   "cell_type": "code",
   "execution_count": 9,
   "metadata": {},
   "outputs": [],
   "source": [
    "gen_dropout = 0.4\n",
    "gen_input_dim = 7\n",
    "gen_depth = 128\n",
    "gen_noise_dim = 50"
   ]
  },
  {
   "cell_type": "code",
   "execution_count": 10,
   "metadata": {},
   "outputs": [
    {
     "name": "stdout",
     "output_type": "stream",
     "text": [
      "_________________________________________________________________\n",
      "Layer (type)                 Output Shape              Param #   \n",
      "=================================================================\n",
      "dense_1 (Dense)              (None, 6272)              319872    \n",
      "_________________________________________________________________\n",
      "batch_normalization_1 (Batch (None, 6272)              25088     \n",
      "_________________________________________________________________\n",
      "activation_1 (Activation)    (None, 6272)              0         \n",
      "_________________________________________________________________\n",
      "reshape_1 (Reshape)          (None, 7, 7, 128)         0         \n",
      "_________________________________________________________________\n",
      "dropout_1 (Dropout)          (None, 7, 7, 128)         0         \n",
      "_________________________________________________________________\n",
      "up_sampling2d_1 (UpSampling2 (None, 14, 14, 128)       0         \n",
      "_________________________________________________________________\n",
      "conv2d_transpose_1 (Conv2DTr (None, 14, 14, 64)        204864    \n",
      "_________________________________________________________________\n",
      "batch_normalization_2 (Batch (None, 14, 14, 64)        256       \n",
      "_________________________________________________________________\n",
      "activation_2 (Activation)    (None, 14, 14, 64)        0         \n",
      "_________________________________________________________________\n",
      "up_sampling2d_2 (UpSampling2 (None, 28, 28, 64)        0         \n",
      "_________________________________________________________________\n",
      "conv2d_transpose_2 (Conv2DTr (None, 28, 28, 32)        51232     \n",
      "_________________________________________________________________\n",
      "batch_normalization_3 (Batch (None, 28, 28, 32)        128       \n",
      "_________________________________________________________________\n",
      "activation_3 (Activation)    (None, 28, 28, 32)        0         \n",
      "_________________________________________________________________\n",
      "conv2d_transpose_3 (Conv2DTr (None, 28, 28, 16)        12816     \n",
      "_________________________________________________________________\n",
      "batch_normalization_4 (Batch (None, 28, 28, 16)        64        \n",
      "_________________________________________________________________\n",
      "activation_4 (Activation)    (None, 28, 28, 16)        0         \n",
      "_________________________________________________________________\n",
      "conv2d_transpose_4 (Conv2DTr (None, 28, 28, 1)         401       \n",
      "_________________________________________________________________\n",
      "activation_5 (Activation)    (None, 28, 28, 1)         0         \n",
      "=================================================================\n",
      "Total params: 614,721\n",
      "Trainable params: 601,953\n",
      "Non-trainable params: 12,768\n",
      "_________________________________________________________________\n"
     ]
    }
   ],
   "source": [
    "gennet = Sequential()\n",
    "\n",
    "# Input \n",
    "# fully-connected layer\n",
    "gennet.add(Dense(gen_input_dim * gen_input_dim * gen_depth, \n",
    "                 input_dim=gen_noise_dim))\n",
    "gennet.add(BatchNormalization(momentum=0.9))\n",
    "gennet.add(Activation('relu'))\n",
    "gennet.add(Reshape((gen_input_dim, gen_input_dim, gen_depth)))\n",
    "gennet.add(Dropout(gen_dropout))\n",
    "\n",
    "# Deconvolution layers\n",
    "gennet.add(UpSampling2D())\n",
    "gennet.add(Conv2DTranspose(int(gen_depth / 2), 5, padding='same'))\n",
    "gennet.add(BatchNormalization(momentum=0.9))\n",
    "gennet.add(Activation('relu'))\n",
    "\n",
    "gennet.add(UpSampling2D())\n",
    "gennet.add(Conv2DTranspose(int(gen_depth / 4), 5, padding='same'))\n",
    "gennet.add(BatchNormalization(momentum=0.9))\n",
    "gennet.add(Activation('relu'))\n",
    "\n",
    "gennet.add(Conv2DTranspose(int(gen_depth / 8), 5, padding='same'))\n",
    "gennet.add(BatchNormalization(momentum=0.9))\n",
    "gennet.add(Activation('relu'))\n",
    "\n",
    "# Output\n",
    "gennet.add(Conv2DTranspose(1, 5, padding='same'))\n",
    "gennet.add(Activation('sigmoid'))\n",
    "\n",
    "gennet.summary()"
   ]
  },
  {
   "cell_type": "markdown",
   "metadata": {},
   "source": [
    "## Discriminator"
   ]
  },
  {
   "cell_type": "code",
   "execution_count": 11,
   "metadata": {},
   "outputs": [],
   "source": [
    "disc_depth = 64\n",
    "disc_dropout = 0.4"
   ]
  },
  {
   "cell_type": "code",
   "execution_count": 12,
   "metadata": {},
   "outputs": [
    {
     "name": "stdout",
     "output_type": "stream",
     "text": [
      "_________________________________________________________________\n",
      "Layer (type)                 Output Shape              Param #   \n",
      "=================================================================\n",
      "conv2d_1 (Conv2D)            (None, 14, 14, 64)        1664      \n",
      "_________________________________________________________________\n",
      "activation_6 (Activation)    (None, 14, 14, 64)        0         \n",
      "_________________________________________________________________\n",
      "dropout_2 (Dropout)          (None, 14, 14, 64)        0         \n",
      "_________________________________________________________________\n",
      "conv2d_2 (Conv2D)            (None, 7, 7, 128)         204928    \n",
      "_________________________________________________________________\n",
      "activation_7 (Activation)    (None, 7, 7, 128)         0         \n",
      "_________________________________________________________________\n",
      "dropout_3 (Dropout)          (None, 7, 7, 128)         0         \n",
      "_________________________________________________________________\n",
      "conv2d_3 (Conv2D)            (None, 4, 4, 256)         819456    \n",
      "_________________________________________________________________\n",
      "activation_8 (Activation)    (None, 4, 4, 256)         0         \n",
      "_________________________________________________________________\n",
      "dropout_4 (Dropout)          (None, 4, 4, 256)         0         \n",
      "_________________________________________________________________\n",
      "conv2d_4 (Conv2D)            (None, 2, 2, 512)         3277312   \n",
      "_________________________________________________________________\n",
      "activation_9 (Activation)    (None, 2, 2, 512)         0         \n",
      "_________________________________________________________________\n",
      "dropout_5 (Dropout)          (None, 2, 2, 512)         0         \n",
      "_________________________________________________________________\n",
      "flatten_1 (Flatten)          (None, 2048)              0         \n",
      "_________________________________________________________________\n",
      "dense_2 (Dense)              (None, 1)                 2049      \n",
      "_________________________________________________________________\n",
      "activation_10 (Activation)   (None, 1)                 0         \n",
      "=================================================================\n",
      "Total params: 4,305,409\n",
      "Trainable params: 4,305,409\n",
      "Non-trainable params: 0\n",
      "_________________________________________________________________\n"
     ]
    }
   ],
   "source": [
    "discnet = Sequential()\n",
    "\n",
    "# Input\n",
    "discnet.add(Conv2D(disc_depth, 5, strides=2, input_shape=(28, 28, 1), \n",
    "                   padding='same'))\n",
    "discnet.add(Activation('relu'))\n",
    "discnet.add(Dropout(disc_dropout))\n",
    "\n",
    "discnet.add(Conv2D(disc_depth*2, 5, strides=2, padding='same'))\n",
    "discnet.add(Activation('relu'))\n",
    "discnet.add(Dropout(disc_dropout))\n",
    "\n",
    "discnet.add(Conv2D(disc_depth*4, 5, strides=2, padding='same'))\n",
    "discnet.add(Activation('relu'))\n",
    "discnet.add(Dropout(disc_dropout))\n",
    "\n",
    "discnet.add(Conv2D(disc_depth*8, 5, strides=2, padding='same'))\n",
    "discnet.add(Activation('relu'))\n",
    "discnet.add(Dropout(disc_dropout))\n",
    "\n",
    "# Out: scalar estimation of probability\n",
    "discnet.add(Flatten())\n",
    "discnet.add(Dense(1))\n",
    "discnet.add(Activation('sigmoid'))\n",
    "\n",
    "discnet.summary()"
   ]
  },
  {
   "cell_type": "markdown",
   "metadata": {},
   "source": [
    "## Discriminator model"
   ]
  },
  {
   "cell_type": "code",
   "execution_count": 13,
   "metadata": {},
   "outputs": [],
   "source": [
    "discmodel = Sequential()\n",
    "discmodel.add(discnet)\n",
    "discmodel.compile(loss='binary_crossentropy', \n",
    "                  optimizer=RMSprop(lr=0.0008, clipvalue=1.0, decay=6e-8),\n",
    "                  metrics=['accuracy'])"
   ]
  },
  {
   "cell_type": "markdown",
   "metadata": {},
   "source": [
    "## Adversarial model"
   ]
  },
  {
   "cell_type": "code",
   "execution_count": 14,
   "metadata": {},
   "outputs": [],
   "source": [
    "advmodel = Sequential()\n",
    "advmodel.add(gennet)\n",
    "advmodel.add(discnet)\n",
    "advmodel.compile(loss='binary_crossentropy', \n",
    "                 optimizer=RMSprop(lr=0.00084, clipvalue=1.0, decay=3e-8),\n",
    "                 metrics=['accuracy'])"
   ]
  },
  {
   "cell_type": "markdown",
   "metadata": {},
   "source": [
    "## Training"
   ]
  },
  {
   "cell_type": "code",
   "execution_count": 17,
   "metadata": {
    "scrolled": false
   },
   "outputs": [
    {
     "name": "stdout",
     "output_type": "stream",
     "text": [
      "Trained on 0th bath of 100 | Disc loss: [7.9711924, 0.5] | Adv loss [0.00055754272, 1.0]\n",
      "Trained on 1th bath of 100 | Disc loss: [1.946584, 0.5] | Adv loss [0.50750268, 1.0]\n",
      "Trained on 2th bath of 100 | Disc loss: [0.9880417, 0.5] | Adv loss [0.18030024, 1.0]\n",
      "Trained on 3th bath of 100 | Disc loss: [2.5294306, 0.5] | Adv loss [0.17266101, 1.0]\n",
      "Trained on 4th bath of 100 | Disc loss: [1.7647054, 0.5] | Adv loss [0.073968023, 1.0]\n",
      "Trained on 5th bath of 100 | Disc loss: [1.3071071, 0.5] | Adv loss [0.041431986, 1.0]\n",
      "Trained on 6th bath of 100 | Disc loss: [1.0555674, 0.5] | Adv loss [0.037950035, 1.0]\n",
      "Trained on 7th bath of 100 | Disc loss: [0.86635274, 0.5] | Adv loss [0.013742178, 1.0]\n",
      "Trained on 8th bath of 100 | Disc loss: [0.53876978, 0.5] | Adv loss [0.0052225417, 1.0]\n",
      "Trained on 9th bath of 100 | Disc loss: [0.39674208, 0.5] | Adv loss [0.0032346086, 1.0]\n",
      "Trained on 10th bath of 100 | Disc loss: [0.33873442, 0.97265625] | Adv loss [0.00019404983, 1.0]\n",
      "Trained on 11th bath of 100 | Disc loss: [0.31484738, 1.0] | Adv loss [0.00023230485, 1.0]\n",
      "Trained on 12th bath of 100 | Disc loss: [0.27485013, 1.0] | Adv loss [0.0011947958, 1.0]\n",
      "Trained on 13th bath of 100 | Disc loss: [0.19549291, 1.0] | Adv loss [0.52174127, 0.7578125]\n",
      "Trained on 14th bath of 100 | Disc loss: [7.9711924, 0.5] | Adv loss [1.1920933e-07, 1.0]\n",
      "Trained on 15th bath of 100 | Disc loss: [7.9711924, 0.5] | Adv loss [1.1920933e-07, 1.0]\n",
      "Trained on 16th bath of 100 | Disc loss: [7.9711924, 0.5] | Adv loss [1.1920933e-07, 1.0]\n",
      "Trained on 17th bath of 100 | Disc loss: [7.9711924, 0.5] | Adv loss [1.1920933e-07, 1.0]\n",
      "Trained on 18th bath of 100 | Disc loss: [7.9711924, 0.5] | Adv loss [1.1920933e-07, 1.0]\n",
      "Trained on 19th bath of 100 | Disc loss: [7.9711924, 0.5] | Adv loss [1.1920933e-07, 1.0]\n",
      "Trained on 20th bath of 100 | Disc loss: [7.9711924, 0.5] | Adv loss [1.1920933e-07, 1.0]\n",
      "Trained on 21th bath of 100 | Disc loss: [7.9711924, 0.5] | Adv loss [1.1920933e-07, 1.0]\n",
      "Trained on 22th bath of 100 | Disc loss: [7.9711924, 0.5] | Adv loss [1.1920933e-07, 1.0]\n",
      "Trained on 23th bath of 100 | Disc loss: [7.9711924, 0.5] | Adv loss [1.1920933e-07, 1.0]\n",
      "Trained on 24th bath of 100 | Disc loss: [7.9711924, 0.5] | Adv loss [1.1920933e-07, 1.0]\n",
      "Trained on 25th bath of 100 | Disc loss: [7.9711924, 0.5] | Adv loss [1.1920933e-07, 1.0]\n",
      "Trained on 26th bath of 100 | Disc loss: [7.9711924, 0.5] | Adv loss [1.1920933e-07, 1.0]\n",
      "Trained on 27th bath of 100 | Disc loss: [7.9711924, 0.5] | Adv loss [1.1920933e-07, 1.0]\n",
      "Trained on 28th bath of 100 | Disc loss: [7.9711924, 0.5] | Adv loss [1.1920933e-07, 1.0]\n",
      "Trained on 29th bath of 100 | Disc loss: [7.9711924, 0.5] | Adv loss [1.1920933e-07, 1.0]\n",
      "Trained on 30th bath of 100 | Disc loss: [7.9711924, 0.5] | Adv loss [1.1920933e-07, 1.0]\n",
      "Trained on 31th bath of 100 | Disc loss: [7.9711924, 0.5] | Adv loss [1.1920933e-07, 1.0]\n",
      "Trained on 32th bath of 100 | Disc loss: [7.9711924, 0.5] | Adv loss [1.1920933e-07, 1.0]\n",
      "Trained on 33th bath of 100 | Disc loss: [7.9711924, 0.5] | Adv loss [1.1920933e-07, 1.0]\n",
      "Trained on 34th bath of 100 | Disc loss: [7.9711924, 0.5] | Adv loss [1.1920933e-07, 1.0]\n",
      "Trained on 35th bath of 100 | Disc loss: [7.9711924, 0.5] | Adv loss [1.1920933e-07, 1.0]\n",
      "Trained on 36th bath of 100 | Disc loss: [7.9711924, 0.5] | Adv loss [1.1920933e-07, 1.0]\n",
      "Trained on 37th bath of 100 | Disc loss: [7.9711924, 0.5] | Adv loss [1.1920933e-07, 1.0]\n",
      "Trained on 38th bath of 100 | Disc loss: [7.9711924, 0.5] | Adv loss [1.1920933e-07, 1.0]\n",
      "Trained on 39th bath of 100 | Disc loss: [7.9711924, 0.5] | Adv loss [1.1920933e-07, 1.0]\n",
      "Trained on 40th bath of 100 | Disc loss: [7.9711924, 0.5] | Adv loss [1.1920933e-07, 1.0]\n",
      "Trained on 41th bath of 100 | Disc loss: [7.9711924, 0.5] | Adv loss [1.1920933e-07, 1.0]\n",
      "Trained on 42th bath of 100 | Disc loss: [7.9711924, 0.5] | Adv loss [1.1920933e-07, 1.0]\n",
      "Trained on 43th bath of 100 | Disc loss: [7.9711924, 0.5] | Adv loss [1.1920933e-07, 1.0]\n",
      "Trained on 44th bath of 100 | Disc loss: [7.9711924, 0.5] | Adv loss [1.1920933e-07, 1.0]\n",
      "Trained on 45th bath of 100 | Disc loss: [7.9711924, 0.5] | Adv loss [1.1920933e-07, 1.0]\n",
      "Trained on 46th bath of 100 | Disc loss: [7.9711924, 0.5] | Adv loss [1.1920933e-07, 1.0]\n",
      "Trained on 47th bath of 100 | Disc loss: [7.9711924, 0.5] | Adv loss [1.1920933e-07, 1.0]\n",
      "Trained on 48th bath of 100 | Disc loss: [7.9711924, 0.5] | Adv loss [1.1920933e-07, 1.0]\n",
      "Trained on 49th bath of 100 | Disc loss: [7.9711924, 0.5] | Adv loss [1.1920933e-07, 1.0]\n",
      "Trained on 50th bath of 100 | Disc loss: [7.9711924, 0.5] | Adv loss [1.1920933e-07, 1.0]\n",
      "Trained on 51th bath of 100 | Disc loss: [7.9711924, 0.5] | Adv loss [1.1920933e-07, 1.0]\n",
      "Trained on 52th bath of 100 | Disc loss: [7.9711924, 0.5] | Adv loss [1.1920933e-07, 1.0]\n",
      "Trained on 53th bath of 100 | Disc loss: [7.9711924, 0.5] | Adv loss [1.1920933e-07, 1.0]\n",
      "Trained on 54th bath of 100 | Disc loss: [7.9711924, 0.5] | Adv loss [1.1920933e-07, 1.0]\n",
      "Trained on 55th bath of 100 | Disc loss: [7.9711924, 0.5] | Adv loss [1.1920933e-07, 1.0]\n",
      "Trained on 56th bath of 100 | Disc loss: [7.9711924, 0.5] | Adv loss [1.1920933e-07, 1.0]\n",
      "Trained on 57th bath of 100 | Disc loss: [7.9711924, 0.5] | Adv loss [1.1920933e-07, 1.0]\n",
      "Trained on 58th bath of 100 | Disc loss: [7.9711924, 0.5] | Adv loss [1.1920933e-07, 1.0]\n",
      "Trained on 59th bath of 100 | Disc loss: [7.9711924, 0.5] | Adv loss [1.1920933e-07, 1.0]\n",
      "Trained on 60th bath of 100 | Disc loss: [7.9711924, 0.5] | Adv loss [1.1920933e-07, 1.0]\n",
      "Trained on 61th bath of 100 | Disc loss: [7.9711924, 0.5] | Adv loss [1.1920933e-07, 1.0]\n",
      "Trained on 62th bath of 100 | Disc loss: [7.9711924, 0.5] | Adv loss [1.1920933e-07, 1.0]\n",
      "Trained on 63th bath of 100 | Disc loss: [7.9711924, 0.5] | Adv loss [1.1920933e-07, 1.0]\n",
      "Trained on 64th bath of 100 | Disc loss: [7.9711924, 0.5] | Adv loss [1.1920933e-07, 1.0]\n",
      "Trained on 65th bath of 100 | Disc loss: [7.9711924, 0.5] | Adv loss [1.1920933e-07, 1.0]\n",
      "Trained on 66th bath of 100 | Disc loss: [7.9711924, 0.5] | Adv loss [1.1920933e-07, 1.0]\n",
      "Trained on 67th bath of 100 | Disc loss: [7.9711924, 0.5] | Adv loss [1.1920933e-07, 1.0]\n",
      "Trained on 68th bath of 100 | Disc loss: [7.9711924, 0.5] | Adv loss [1.1920933e-07, 1.0]\n",
      "Trained on 69th bath of 100 | Disc loss: [7.9711924, 0.5] | Adv loss [1.1920933e-07, 1.0]\n",
      "Trained on 70th bath of 100 | Disc loss: [7.9711924, 0.5] | Adv loss [1.1920933e-07, 1.0]\n",
      "Trained on 71th bath of 100 | Disc loss: [7.9711924, 0.5] | Adv loss [1.1920933e-07, 1.0]\n",
      "Trained on 72th bath of 100 | Disc loss: [7.9711924, 0.5] | Adv loss [1.1920933e-07, 1.0]\n",
      "Trained on 73th bath of 100 | Disc loss: [7.9711924, 0.5] | Adv loss [1.1920933e-07, 1.0]\n",
      "Trained on 74th bath of 100 | Disc loss: [7.9711924, 0.5] | Adv loss [1.1920933e-07, 1.0]\n",
      "Trained on 75th bath of 100 | Disc loss: [7.9711924, 0.5] | Adv loss [1.1920933e-07, 1.0]\n",
      "Trained on 76th bath of 100 | Disc loss: [7.9711924, 0.5] | Adv loss [1.1920933e-07, 1.0]\n",
      "Trained on 77th bath of 100 | Disc loss: [7.9711924, 0.5] | Adv loss [1.1920933e-07, 1.0]\n",
      "Trained on 78th bath of 100 | Disc loss: [7.9711924, 0.5] | Adv loss [1.1920933e-07, 1.0]\n",
      "Trained on 79th bath of 100 | Disc loss: [7.9711924, 0.5] | Adv loss [1.1920933e-07, 1.0]\n",
      "Trained on 80th bath of 100 | Disc loss: [7.9711924, 0.5] | Adv loss [1.1920933e-07, 1.0]\n",
      "Trained on 81th bath of 100 | Disc loss: [7.9711924, 0.5] | Adv loss [1.1920933e-07, 1.0]\n",
      "Trained on 82th bath of 100 | Disc loss: [7.9711924, 0.5] | Adv loss [1.1920933e-07, 1.0]\n",
      "Trained on 83th bath of 100 | Disc loss: [7.9711924, 0.5] | Adv loss [1.1920933e-07, 1.0]\n",
      "Trained on 84th bath of 100 | Disc loss: [7.9711924, 0.5] | Adv loss [1.1920933e-07, 1.0]\n",
      "Trained on 85th bath of 100 | Disc loss: [7.9711924, 0.5] | Adv loss [1.1920933e-07, 1.0]\n",
      "Trained on 86th bath of 100 | Disc loss: [7.9711924, 0.5] | Adv loss [1.1920933e-07, 1.0]\n",
      "Trained on 87th bath of 100 | Disc loss: [7.9711924, 0.5] | Adv loss [1.1920933e-07, 1.0]\n",
      "Trained on 88th bath of 100 | Disc loss: [7.9711924, 0.5] | Adv loss [1.1920933e-07, 1.0]\n",
      "Trained on 89th bath of 100 | Disc loss: [7.9711924, 0.5] | Adv loss [1.1920933e-07, 1.0]\n",
      "Trained on 90th bath of 100 | Disc loss: [7.9711924, 0.5] | Adv loss [1.1920933e-07, 1.0]\n",
      "Trained on 91th bath of 100 | Disc loss: [7.9711924, 0.5] | Adv loss [1.1920933e-07, 1.0]\n",
      "Trained on 92th bath of 100 | Disc loss: [7.9711924, 0.5] | Adv loss [1.1920933e-07, 1.0]\n"
     ]
    },
    {
     "name": "stdout",
     "output_type": "stream",
     "text": [
      "Trained on 93th bath of 100 | Disc loss: [7.9711924, 0.5] | Adv loss [1.1920933e-07, 1.0]\n",
      "Trained on 94th bath of 100 | Disc loss: [7.9711924, 0.5] | Adv loss [1.1920933e-07, 1.0]\n",
      "Trained on 95th bath of 100 | Disc loss: [7.9711924, 0.5] | Adv loss [1.1920933e-07, 1.0]\n",
      "Trained on 96th bath of 100 | Disc loss: [7.9711924, 0.5] | Adv loss [1.1920933e-07, 1.0]\n",
      "Trained on 97th bath of 100 | Disc loss: [7.9711924, 0.5] | Adv loss [1.1920933e-07, 1.0]\n",
      "Trained on 98th bath of 100 | Disc loss: [7.9711924, 0.5] | Adv loss [1.1920933e-07, 1.0]\n",
      "Trained on 99th bath of 100 | Disc loss: [7.9711924, 0.5] | Adv loss [1.1920933e-07, 1.0]\n"
     ]
    }
   ],
   "source": [
    "batch_size = 128\n",
    "train_iters = 100\n",
    "\n",
    "disc_losses = []\n",
    "adv_losses = []\n",
    "\n",
    "for i in range(train_iters):\n",
    "    # Get random real images\n",
    "    images_true = X_train[np.random.randint(0, \n",
    "                                            X_train.shape[0], \n",
    "                                            size=batch_size)]\n",
    "    # Generate images from noise\n",
    "    noise = np.random.uniform(-1.0, 1.0, \n",
    "                              size=[batch_size, gen_noise_dim])\n",
    "    images_fake = gennet.predict(noise)\n",
    "    # Compose training data for discriminator\n",
    "    x = np.concatenate((images_fake, images_true))\n",
    "    y = np.concatenate((np.zeros((batch_size, 1)), \n",
    "                        np.ones((batch_size, 1))))\n",
    "    # Train discriminator on composed data\n",
    "    dics_loss = discmodel.train_on_batch(x, y)\n",
    "    disc_losses.append(dics_loss) \n",
    "    \n",
    "    # Compose trainig data for adversarial net\n",
    "    noise = np.random.uniform(-1.0, 1.0, \n",
    "                              size=[batch_size, gen_noise_dim])\n",
    "    y = np.ones([batch_size, 1])\n",
    "    # Train adversarial net on composed data\n",
    "    adv_loss = advmodel.train_on_batch(noise, y)\n",
    "    adv_losses.append(adv_loss)\n",
    "    \n",
    "    # Print results\n",
    "    print(\"Trained on {}th bath of {} | Disc loss: {} | Adv loss {}\".format(i, train_iters, dics_loss, adv_loss))"
   ]
  },
  {
   "cell_type": "code",
   "execution_count": null,
   "metadata": {},
   "outputs": [],
   "source": []
  }
 ],
 "metadata": {
  "kernelspec": {
   "display_name": "Python 3",
   "language": "python",
   "name": "python3"
  },
  "language_info": {
   "codemirror_mode": {
    "name": "ipython",
    "version": 3
   },
   "file_extension": ".py",
   "mimetype": "text/x-python",
   "name": "python",
   "nbconvert_exporter": "python",
   "pygments_lexer": "ipython3",
   "version": "3.5.2"
  }
 },
 "nbformat": 4,
 "nbformat_minor": 2
}
