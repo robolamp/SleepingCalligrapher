{
 "cells": [
  {
   "cell_type": "markdown",
   "metadata": {},
   "source": [
    "# Digits generator"
   ]
  },
  {
   "cell_type": "code",
   "execution_count": 1,
   "metadata": {},
   "outputs": [],
   "source": [
    "import pandas as pd\n",
    "import numpy as np\n",
    "import matplotlib.pyplot as plt\n",
    "\n",
    "%matplotlib inline"
   ]
  },
  {
   "cell_type": "code",
   "execution_count": 2,
   "metadata": {},
   "outputs": [
    {
     "name": "stderr",
     "output_type": "stream",
     "text": [
      "Using TensorFlow backend.\n"
     ]
    }
   ],
   "source": [
    "from keras.models import Sequential\n",
    "from keras.layers.core import Dense, Dropout, Activation, Reshape, Flatten\n",
    "from keras.layers.normalization import BatchNormalization\n",
    "from keras.layers.convolutional import UpSampling2D, Conv2DTranspose, Conv2D\n",
    "\n",
    "from keras.optimizers import SGD, RMSprop"
   ]
  },
  {
   "cell_type": "markdown",
   "metadata": {},
   "source": [
    "## Data"
   ]
  },
  {
   "cell_type": "code",
   "execution_count": 3,
   "metadata": {},
   "outputs": [
    {
     "name": "stdout",
     "output_type": "stream",
     "text": [
      "Extracting MNIST_data/train-images-idx3-ubyte.gz\n",
      "Extracting MNIST_data/train-labels-idx1-ubyte.gz\n",
      "Extracting MNIST_data/t10k-images-idx3-ubyte.gz\n",
      "Extracting MNIST_data/t10k-labels-idx1-ubyte.gz\n"
     ]
    }
   ],
   "source": [
    "from tensorflow.examples.tutorials.mnist import input_data\n",
    "mnist = input_data.read_data_sets(\"MNIST_data/\", one_hot=True)"
   ]
  },
  {
   "cell_type": "markdown",
   "metadata": {},
   "source": [
    "## Visualisation"
   ]
  },
  {
   "cell_type": "code",
   "execution_count": 4,
   "metadata": {},
   "outputs": [],
   "source": [
    "def reshape_image(pixels):\n",
    "    npix = int(np.sqrt(pixels.shape[0]))\n",
    "    return np.reshape(pixels, (npix, npix))\n",
    "\n",
    "def draw_image(image):\n",
    "    image = np.reshape(image, (image.shape[0], image.shape[1]))\n",
    "    plt.imshow(image, cmap = plt.get_cmap('gray'))\n",
    "    plt.axis('off')\n",
    "    plt.show()"
   ]
  },
  {
   "cell_type": "code",
   "execution_count": 5,
   "metadata": {},
   "outputs": [],
   "source": [
    "# draw_image(reshape_image(mnist.train.images[0]))"
   ]
  },
  {
   "cell_type": "code",
   "execution_count": 6,
   "metadata": {},
   "outputs": [],
   "source": [
    "X_train = mnist.train.images.reshape(-1,  \n",
    "                                     28, \n",
    "                                     28, \n",
    "                                     1).astype(np.float32)\n",
    "y_train = mnist.train.labels"
   ]
  },
  {
   "cell_type": "code",
   "execution_count": 7,
   "metadata": {},
   "outputs": [
    {
     "data": {
      "image/png": "[encoded data removed]",
      "text/plain": [
       "<matplotlib.figure.Figure at 0x7f686e93f6a0>"
      ]
     },
     "metadata": {},
     "output_type": "display_data"
    },
    {
     "data": {
      "text/plain": [
       "(None, array([ 1.,  0.,  0.,  0.,  0.,  0.,  0.,  0.,  0.,  0.]))"
      ]
     },
     "execution_count": 7,
     "metadata": {},
     "output_type": "execute_result"
    }
   ],
   "source": [
    "draw_image(X_train[10]), y_train[10]"
   ]
  },
  {
   "cell_type": "code",
   "execution_count": 8,
   "metadata": {},
   "outputs": [
    {
     "data": {
      "text/plain": [
       "(55000, 28, 28, 1)"
      ]
     },
     "execution_count": 8,
     "metadata": {},
     "output_type": "execute_result"
    }
   ],
   "source": [
    "X_train.shape"
   ]
  },
  {
   "cell_type": "markdown",
   "metadata": {},
   "source": [
    "# GAN example\n",
    "## Generator"
   ]
  },
  {
   "cell_type": "code",
   "execution_count": 9,
   "metadata": {},
   "outputs": [],
   "source": [
    "gen_dropout = 0.1\n",
    "gen_input_dim = 7\n",
    "gen_depth = 256\n",
    "gen_noise_dim = 100"
   ]
  },
  {
   "cell_type": "code",
   "execution_count": 10,
   "metadata": {},
   "outputs": [
    {
     "name": "stdout",
     "output_type": "stream",
     "text": [
      "_________________________________________________________________\n",
      "Layer (type)                 Output Shape              Param #   \n",
      "=================================================================\n",
      "dense_1 (Dense)              (None, 12544)             1266944   \n",
      "_________________________________________________________________\n",
      "batch_normalization_1 (Batch (None, 12544)             50176     \n",
      "_________________________________________________________________\n",
      "activation_1 (Activation)    (None, 12544)             0         \n",
      "_________________________________________________________________\n",
      "reshape_1 (Reshape)          (None, 7, 7, 256)         0         \n",
      "_________________________________________________________________\n",
      "dropout_1 (Dropout)          (None, 7, 7, 256)         0         \n",
      "_________________________________________________________________\n",
      "up_sampling2d_1 (UpSampling2 (None, 14, 14, 256)       0         \n",
      "_________________________________________________________________\n",
      "conv2d_transpose_1 (Conv2DTr (None, 14, 14, 128)       819328    \n",
      "_________________________________________________________________\n",
      "batch_normalization_2 (Batch (None, 14, 14, 128)       512       \n",
      "_________________________________________________________________\n",
      "activation_2 (Activation)    (None, 14, 14, 128)       0         \n",
      "_________________________________________________________________\n",
      "up_sampling2d_2 (UpSampling2 (None, 28, 28, 128)       0         \n",
      "_________________________________________________________________\n",
      "conv2d_transpose_2 (Conv2DTr (None, 28, 28, 64)        204864    \n",
      "_________________________________________________________________\n",
      "batch_normalization_3 (Batch (None, 28, 28, 64)        256       \n",
      "_________________________________________________________________\n",
      "activation_3 (Activation)    (None, 28, 28, 64)        0         \n",
      "_________________________________________________________________\n",
      "conv2d_transpose_3 (Conv2DTr (None, 28, 28, 32)        51232     \n",
      "_________________________________________________________________\n",
      "batch_normalization_4 (Batch (None, 28, 28, 32)        128       \n",
      "_________________________________________________________________\n",
      "activation_4 (Activation)    (None, 28, 28, 32)        0         \n",
      "_________________________________________________________________\n",
      "conv2d_transpose_4 (Conv2DTr (None, 28, 28, 1)         801       \n",
      "_________________________________________________________________\n",
      "activation_5 (Activation)    (None, 28, 28, 1)         0         \n",
      "=================================================================\n",
      "Total params: 2,394,241\n",
      "Trainable params: 2,368,705\n",
      "Non-trainable params: 25,536\n",
      "_________________________________________________________________\n"
     ]
    }
   ],
   "source": [
    "gennet = Sequential()\n",
    "\n",
    "# Input \n",
    "# fully-connected layer\n",
    "gennet.add(Dense(gen_input_dim * gen_input_dim * gen_depth, \n",
    "                 input_dim=gen_noise_dim))\n",
    "gennet.add(BatchNormalization(momentum=0.9))\n",
    "gennet.add(Activation('relu'))\n",
    "gennet.add(Reshape((gen_input_dim, gen_input_dim, gen_depth)))\n",
    "gennet.add(Dropout(gen_dropout))\n",
    "\n",
    "# Deconvolution layers\n",
    "gennet.add(UpSampling2D())\n",
    "gennet.add(Conv2DTranspose(int(gen_depth / 2), 5, padding='same'))\n",
    "gennet.add(BatchNormalization(momentum=0.9))\n",
    "gennet.add(Activation('relu'))\n",
    "\n",
    "gennet.add(UpSampling2D())\n",
    "gennet.add(Conv2DTranspose(int(gen_depth / 4), 5, padding='same'))\n",
    "gennet.add(BatchNormalization(momentum=0.9))\n",
    "gennet.add(Activation('relu'))\n",
    "\n",
    "gennet.add(Conv2DTranspose(int(gen_depth / 8), 5, padding='same'))\n",
    "gennet.add(BatchNormalization(momentum=0.9))\n",
    "gennet.add(Activation('relu'))\n",
    "\n",
    "# Output\n",
    "gennet.add(Conv2DTranspose(1, 5, padding='same'))\n",
    "gennet.add(Activation('sigmoid'))\n",
    "\n",
    "gennet.summary()"
   ]
  },
  {
   "cell_type": "markdown",
   "metadata": {},
   "source": [
    "## Discriminator"
   ]
  },
  {
   "cell_type": "code",
   "execution_count": 11,
   "metadata": {},
   "outputs": [],
   "source": [
    "disc_depth = 64\n",
    "disc_dropout = 0.1"
   ]
  },
  {
   "cell_type": "code",
   "execution_count": 12,
   "metadata": {},
   "outputs": [
    {
     "name": "stdout",
     "output_type": "stream",
     "text": [
      "_________________________________________________________________\n",
      "Layer (type)                 Output Shape              Param #   \n",
      "=================================================================\n",
      "conv2d_1 (Conv2D)            (None, 14, 14, 64)        1664      \n",
      "_________________________________________________________________\n",
      "activation_6 (Activation)    (None, 14, 14, 64)        0         \n",
      "_________________________________________________________________\n",
      "dropout_2 (Dropout)          (None, 14, 14, 64)        0         \n",
      "_________________________________________________________________\n",
      "conv2d_2 (Conv2D)            (None, 7, 7, 128)         204928    \n",
      "_________________________________________________________________\n",
      "activation_7 (Activation)    (None, 7, 7, 128)         0         \n",
      "_________________________________________________________________\n",
      "dropout_3 (Dropout)          (None, 7, 7, 128)         0         \n",
      "_________________________________________________________________\n",
      "conv2d_3 (Conv2D)            (None, 4, 4, 256)         819456    \n",
      "_________________________________________________________________\n",
      "activation_8 (Activation)    (None, 4, 4, 256)         0         \n",
      "_________________________________________________________________\n",
      "dropout_4 (Dropout)          (None, 4, 4, 256)         0         \n",
      "_________________________________________________________________\n",
      "conv2d_4 (Conv2D)            (None, 2, 2, 512)         3277312   \n",
      "_________________________________________________________________\n",
      "activation_9 (Activation)    (None, 2, 2, 512)         0         \n",
      "_________________________________________________________________\n",
      "dropout_5 (Dropout)          (None, 2, 2, 512)         0         \n",
      "_________________________________________________________________\n",
      "flatten_1 (Flatten)          (None, 2048)              0         \n",
      "_________________________________________________________________\n",
      "dense_2 (Dense)              (None, 1)                 2049      \n",
      "_________________________________________________________________\n",
      "activation_10 (Activation)   (None, 1)                 0         \n",
      "=================================================================\n",
      "Total params: 4,305,409\n",
      "Trainable params: 4,305,409\n",
      "Non-trainable params: 0\n",
      "_________________________________________________________________\n"
     ]
    }
   ],
   "source": [
    "discnet = Sequential()\n",
    "\n",
    "# Input\n",
    "discnet.add(Conv2D(disc_depth, 5, strides=2, input_shape=(28, 28, 1), \n",
    "                   padding='same'))\n",
    "discnet.add(Activation('relu'))\n",
    "discnet.add(Dropout(disc_dropout))\n",
    "\n",
    "discnet.add(Conv2D(disc_depth*2, 5, strides=2, padding='same'))\n",
    "discnet.add(Activation('relu'))\n",
    "discnet.add(Dropout(disc_dropout))\n",
    "\n",
    "discnet.add(Conv2D(disc_depth*4, 5, strides=2, padding='same'))\n",
    "discnet.add(Activation('relu'))\n",
    "discnet.add(Dropout(disc_dropout))\n",
    "\n",
    "discnet.add(Conv2D(disc_depth*8, 5, strides=2, padding='same'))\n",
    "discnet.add(Activation('relu'))\n",
    "discnet.add(Dropout(disc_dropout))\n",
    "\n",
    "# Out: scalar estimation of probability\n",
    "discnet.add(Flatten())\n",
    "discnet.add(Dense(1))\n",
    "discnet.add(Activation('sigmoid'))\n",
    "\n",
    "discnet.summary()"
   ]
  },
  {
   "cell_type": "markdown",
   "metadata": {},
   "source": [
    "## Discriminator model"
   ]
  },
  {
   "cell_type": "code",
   "execution_count": 13,
   "metadata": {},
   "outputs": [],
   "source": [
    "discmodel = Sequential()\n",
    "discmodel.add(discnet)\n",
    "discmodel.compile(loss='binary_crossentropy', \n",
    "                  optimizer=RMSprop(lr=0.0002, clipvalue=1.0, decay=6e-8),\n",
    "                  metrics=['accuracy'])"
   ]
  },
  {
   "cell_type": "markdown",
   "metadata": {},
   "source": [
    "## Adversarial model"
   ]
  },
  {
   "cell_type": "code",
   "execution_count": 14,
   "metadata": {},
   "outputs": [],
   "source": [
    "advmodel = Sequential()\n",
    "advmodel.add(gennet)\n",
    "advmodel.add(discnet)\n",
    "advmodel.compile(loss='binary_crossentropy', \n",
    "                 optimizer=RMSprop(lr=0.0001, clipvalue=1.0, decay=3e-8),\n",
    "                 metrics=['accuracy'])"
   ]
  },
  {
   "cell_type": "markdown",
   "metadata": {},
   "source": [
    "## Training"
   ]
  },
  {
   "cell_type": "code",
   "execution_count": 17,
   "metadata": {
    "scrolled": true
   },
   "outputs": [
    {
     "name": "stdout",
     "output_type": "stream",
     "text": [
      "   0th batch of 5000|Disc loss 0.667 |Disc acc 0.588 |Adv loss 0.701 |Adv acc 0.488\n",
      " 100th batch of 5000|Disc loss 0.667 |Disc acc 0.547 |Adv loss 0.662 |Adv acc 0.66\n",
      " 200th batch of 5000|Disc loss 0.673 |Disc acc 0.520 |Adv loss 1.251 |Adv acc 0.0\n",
      " 300th batch of 5000|Disc loss 0.664 |Disc acc 0.545 |Adv loss 1.360 |Adv acc 0.00391\n",
      " 400th batch of 5000|Disc loss 0.656 |Disc acc 0.586 |Adv loss 1.661 |Adv acc 0.0\n",
      " 500th batch of 5000|Disc loss 0.632 |Disc acc 0.619 |Adv loss 1.484 |Adv acc 0.00391\n",
      " 600th batch of 5000|Disc loss 0.705 |Disc acc 0.557 |Adv loss 1.293 |Adv acc 0.00781\n",
      " 700th batch of 5000|Disc loss 0.619 |Disc acc 0.676 |Adv loss 0.985 |Adv acc 0.156\n",
      " 800th batch of 5000|Disc loss 0.607 |Disc acc 0.688 |Adv loss 0.815 |Adv acc 0.391\n",
      " 900th batch of 5000|Disc loss 0.627 |Disc acc 0.643 |Adv loss 0.650 |Adv acc 0.633\n",
      "1000th batch of 5000|Disc loss 0.648 |Disc acc 0.629 |Adv loss 0.979 |Adv acc 0.199\n",
      "1100th batch of 5000|Disc loss 0.646 |Disc acc 0.615 |Adv loss 0.644 |Adv acc 0.664\n",
      "1200th batch of 5000|Disc loss 0.614 |Disc acc 0.674 |Adv loss 0.801 |Adv acc 0.367\n",
      "1300th batch of 5000|Disc loss 0.617 |Disc acc 0.666 |Adv loss 0.874 |Adv acc 0.289\n",
      "1400th batch of 5000|Disc loss 0.616 |Disc acc 0.695 |Adv loss 0.955 |Adv acc 0.215\n",
      "1500th batch of 5000|Disc loss 0.723 |Disc acc 0.566 |Adv loss 1.917 |Adv acc 0.00391\n",
      "1600th batch of 5000|Disc loss 0.658 |Disc acc 0.598 |Adv loss 1.047 |Adv acc 0.113\n",
      "1700th batch of 5000|Disc loss 0.640 |Disc acc 0.615 |Adv loss 0.784 |Adv acc 0.414\n",
      "1800th batch of 5000|Disc loss 0.637 |Disc acc 0.650 |Adv loss 0.663 |Adv acc 0.574\n",
      "1900th batch of 5000|Disc loss 0.627 |Disc acc 0.660 |Adv loss 0.801 |Adv acc 0.348\n",
      "2000th batch of 5000|Disc loss 0.641 |Disc acc 0.609 |Adv loss 0.652 |Adv acc 0.602\n",
      "2100th batch of 5000|Disc loss 0.731 |Disc acc 0.527 |Adv loss 1.460 |Adv acc 0.0\n",
      "2200th batch of 5000|Disc loss 0.701 |Disc acc 0.572 |Adv loss 1.162 |Adv acc 0.0352\n",
      "2300th batch of 5000|Disc loss 0.693 |Disc acc 0.594 |Adv loss 1.272 |Adv acc 0.0312\n",
      "2400th batch of 5000|Disc loss 0.746 |Disc acc 0.545 |Adv loss 1.356 |Adv acc 0.0156\n",
      "2500th batch of 5000|Disc loss 0.697 |Disc acc 0.559 |Adv loss 1.411 |Adv acc 0.00391\n",
      "2600th batch of 5000|Disc loss 0.710 |Disc acc 0.541 |Adv loss 1.246 |Adv acc 0.0234\n",
      "2700th batch of 5000|Disc loss 0.706 |Disc acc 0.545 |Adv loss 1.299 |Adv acc 0.0273\n",
      "2800th batch of 5000|Disc loss 0.732 |Disc acc 0.518 |Adv loss 1.295 |Adv acc 0.0195\n",
      "2900th batch of 5000|Disc loss 0.705 |Disc acc 0.531 |Adv loss 1.091 |Adv acc 0.0469\n",
      "3000th batch of 5000|Disc loss 0.715 |Disc acc 0.525 |Adv loss 1.188 |Adv acc 0.0234\n",
      "3100th batch of 5000|Disc loss 0.730 |Disc acc 0.537 |Adv loss 1.153 |Adv acc 0.0234\n",
      "3200th batch of 5000|Disc loss 0.729 |Disc acc 0.518 |Adv loss 1.346 |Adv acc 0.0\n",
      "3300th batch of 5000|Disc loss 0.720 |Disc acc 0.557 |Adv loss 1.104 |Adv acc 0.0352\n",
      "3400th batch of 5000|Disc loss 0.740 |Disc acc 0.516 |Adv loss 1.330 |Adv acc 0.0\n",
      "3500th batch of 5000|Disc loss 0.713 |Disc acc 0.561 |Adv loss 1.235 |Adv acc 0.0117\n",
      "3600th batch of 5000|Disc loss 0.739 |Disc acc 0.531 |Adv loss 1.183 |Adv acc 0.00781\n",
      "3700th batch of 5000|Disc loss 0.709 |Disc acc 0.527 |Adv loss 0.485 |Adv acc 0.898\n",
      "3800th batch of 5000|Disc loss 0.663 |Disc acc 0.609 |Adv loss 0.718 |Adv acc 0.453\n",
      "3900th batch of 5000|Disc loss 0.658 |Disc acc 0.600 |Adv loss 0.610 |Adv acc 0.652\n",
      "4000th batch of 5000|Disc loss 0.660 |Disc acc 0.607 |Adv loss 0.752 |Adv acc 0.395\n",
      "4100th batch of 5000|Disc loss 0.655 |Disc acc 0.609 |Adv loss 0.700 |Adv acc 0.484\n",
      "4200th batch of 5000|Disc loss 0.682 |Disc acc 0.547 |Adv loss 0.801 |Adv acc 0.293\n",
      "4300th batch of 5000|Disc loss 0.667 |Disc acc 0.574 |Adv loss 0.761 |Adv acc 0.383\n",
      "4400th batch of 5000|Disc loss 0.662 |Disc acc 0.588 |Adv loss 0.742 |Adv acc 0.438\n",
      "4500th batch of 5000|Disc loss 0.660 |Disc acc 0.615 |Adv loss 0.717 |Adv acc 0.488\n",
      "4600th batch of 5000|Disc loss 0.653 |Disc acc 0.596 |Adv loss 0.685 |Adv acc 0.508\n",
      "4700th batch of 5000|Disc loss 0.665 |Disc acc 0.600 |Adv loss 0.730 |Adv acc 0.43\n",
      "4800th batch of 5000|Disc loss 0.667 |Disc acc 0.588 |Adv loss 0.724 |Adv acc 0.441\n",
      "4900th batch of 5000|Disc loss 0.654 |Disc acc 0.592 |Adv loss 0.740 |Adv acc 0.41\n"
     ]
    }
   ],
   "source": [
    "batch_size = 256\n",
    "train_iters = 5000\n",
    "\n",
    "disc_losses = {\"loss\": [], \"acc\": []}\n",
    "adv_losses = {\"loss\": [], \"acc\": []}\n",
    "log_i = 0\n",
    "\n",
    "for i in range(train_iters):\n",
    "    # Get random real images\n",
    "    images_true = X_train[np.random.randint(0, \n",
    "                                            X_train.shape[0], \n",
    "                                            size=batch_size)]\n",
    "    # Generate images from noise\n",
    "    noise = np.random.uniform(-1.0, 1.0, \n",
    "                              size=[batch_size, gen_noise_dim])\n",
    "    images_fake = gennet.predict(noise)\n",
    "    # Compose training data for discriminator\n",
    "    x = np.concatenate((images_true, images_fake))\n",
    "    y = np.concatenate((np.ones((batch_size, 1)), \n",
    "                        np.zeros((batch_size, 1))))\n",
    "    # Train discriminator on composed data\n",
    "    dics_loss = discmodel.train_on_batch(x, y)\n",
    "    disc_losses[\"loss\"].append(dics_loss[0])\n",
    "    disc_losses[\"acc\"].append(dics_loss[1])\n",
    "    \n",
    "    # Compose trainig data for adversarial net\n",
    "    noise = np.random.uniform(-1.0, 1.0, \n",
    "                              size=[batch_size, gen_noise_dim])\n",
    "    y = np.ones([batch_size, 1])\n",
    "    # Train adversarial net on composed data\n",
    "    adv_loss = advmodel.train_on_batch(noise, y)\n",
    "    adv_losses[\"loss\"].append(adv_loss[0])\n",
    "    adv_losses[\"acc\"].append(adv_loss[1])\n",
    "    \n",
    "    # Print results\n",
    "    if i % 100 == 0:\n",
    "        print(\"{:4d}th batch of {:4d}|\".format(i, train_iters) + \\\n",
    "              \"Disc loss {:.3f} |Disc acc {:.3f} |Adv loss {:.3f} |Adv acc {:.3}\".format(dics_loss[0], \n",
    "                                                                                         dics_loss[1], \n",
    "                                                                                         adv_loss[0], \n",
    "                                                                                         adv_loss[1]))"
   ]
  },
  {
   "cell_type": "markdown",
   "metadata": {},
   "source": [
    "## Discriminator losses"
   ]
  },
  {
   "cell_type": "code",
   "execution_count": 18,
   "metadata": {},
   "outputs": [
    {
     "data": {
      "image/png": "[encoded data removed]",
      "text/plain": [
       "<matplotlib.figure.Figure at 0x7f67f80cfa20>"
      ]
     },
     "metadata": {},
     "output_type": "display_data"
    }
   ],
   "source": [
    "plt.plot(list(range(train_iters)), disc_losses[\"loss\"])\n",
    "plt.grid()"
   ]
  },
  {
   "cell_type": "markdown",
   "metadata": {},
   "source": [
    "## Adversarial net losses"
   ]
  },
  {
   "cell_type": "code",
   "execution_count": 19,
   "metadata": {},
   "outputs": [
    {
     "data": {
      "image/png": "[encoded data removed]",
      "text/plain": [
       "<matplotlib.figure.Figure at 0x7f660aa63c50>"
      ]
     },
     "metadata": {},
     "output_type": "display_data"
    }
   ],
   "source": [
    "plt.plot(list(range(train_iters)), adv_losses[\"loss\"])\n",
    "plt.grid()"
   ]
  },
  {
   "cell_type": "markdown",
   "metadata": {},
   "source": [
    "## Accuracies"
   ]
  },
  {
   "cell_type": "code",
   "execution_count": 20,
   "metadata": {},
   "outputs": [
    {
     "data": {
      "image/png": "[encoded data removed]",
      "text/plain": [
       "<matplotlib.figure.Figure at 0x7f6608de0d68>"
      ]
     },
     "metadata": {},
     "output_type": "display_data"
    }
   ],
   "source": [
    "plt.plot(list(range(train_iters)), disc_losses[\"acc\"])\n",
    "plt.plot(list(range(train_iters)), adv_losses[\"acc\"])\n",
    "plt.grid()"
   ]
  },
  {
   "cell_type": "markdown",
   "metadata": {},
   "source": [
    "## An attempt to generate images"
   ]
  },
  {
   "cell_type": "code",
   "execution_count": 24,
   "metadata": {
    "scrolled": false
   },
   "outputs": [
    {
     "data": {
      "image/png": "[encoded data removed]",
      "text/plain": [
       "<matplotlib.figure.Figure at 0x7f66086fa668>"
      ]
     },
     "metadata": {},
     "output_type": "display_data"
    }
   ],
   "source": [
    "noise = np.random.uniform(-1.0, 1.0, size=[10, gen_noise_dim])\n",
    "fake_images = gennet.predict(noise)\n",
    "\n",
    "    \n",
    "for i in range(9):\n",
    "    plt.subplot(330 + 1 + i)\n",
    "    plt.imshow(fake_images[i].reshape(28, 28), cmap=plt.get_cmap('gray'))\n",
    "    plt.axis('off')\n",
    "plt.show()"
   ]
  },
  {
   "cell_type": "code",
   "execution_count": null,
   "metadata": {},
   "outputs": [],
   "source": []
  }
 ],
 "metadata": {
  "kernelspec": {
   "display_name": "Python 3",
   "language": "python",
   "name": "python3"
  },
  "language_info": {
   "codemirror_mode": {
    "name": "ipython",
    "version": 3
   },
   "file_extension": ".py",
   "mimetype": "text/x-python",
   "name": "python",
   "nbconvert_exporter": "python",
   "pygments_lexer": "ipython3",
   "version": "3.5.2"
  }
 },
 "nbformat": 4,
 "nbformat_minor": 2
}
