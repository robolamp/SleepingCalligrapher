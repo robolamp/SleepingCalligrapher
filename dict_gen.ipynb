{
 "cells": [
  {
   "cell_type": "markdown",
   "metadata": {},
   "source": [
    "# Dictionary generator\n",
    "Here I'd try to make a big dictionary  "
   ]
  },
  {
   "cell_type": "code",
   "execution_count": 1,
   "metadata": {},
   "outputs": [],
   "source": [
    "import re\n",
    "import datetime\n",
    "\n",
    "import numpy as np\n",
    "import matplotlib.pyplot as plt\n",
    "\n",
    "from PIL import Image, ImageDraw, ImageFont\n",
    "\n",
    "%matplotlib inline"
   ]
  },
  {
   "cell_type": "markdown",
   "metadata": {},
   "source": [
    "# Data\n",
    "\n",
    "## English word-Chinese character dictionary\n",
    "English-Chinese dictionary is taken from https://www.mdbg.net/chinese/dictionary?page=cedict\n",
    "\n",
    "Format of the dictionary line:\n",
    "\n",
    "```\n",
    "Traditional Simplified [pin1 yin1] /English equivalent 1/equivalent 2/\n",
    "\n",
    "```\n",
    "\n",
    "Example of the line:\n",
    "```\n",
    "雀鳥 雀鸟 [que4 niao3] /bird/\n",
    "```\n",
    "\n",
    "One word to one character dictionary"
   ]
  },
  {
   "cell_type": "code",
   "execution_count": 2,
   "metadata": {},
   "outputs": [],
   "source": [
    "word2hier = dict()\n",
    "for line in open('data/cedict_ts.u8', 'r', encoding='utf-8'):\n",
    "    if re.match(r'#.*', line):\n",
    "#   Skip comments\n",
    "        continue\n",
    "    \n",
    "    ch_trad, ch_simp, line = re.split(r' ', line, maxsplit=2)\n",
    "#   We use simplified characters\n",
    "    ch = ch_simp\n",
    "    \n",
    "    if not re.match(u'[\\u4e00-\\u9fff]\\Z', ch):\n",
    "#   Skip if ch contains more than one character\n",
    "        continue\n",
    "    \n",
    "    _, eng_eqs = re.split(r'] /', line, maxsplit=1)\n",
    "    eng_eqs = eng_eqs.split('/')[:-1]\n",
    "    \n",
    "#   Select only equivalents containing only one word\n",
    "    eng_eqs = [eq for eq in eng_eqs if re.match(r'\\w+\\Z', eq)]\n",
    "    \n",
    "    for eng_eq in eng_eqs:\n",
    "        word2hier[eng_eq] = ch"
   ]
  },
  {
   "cell_type": "code",
   "execution_count": 3,
   "metadata": {},
   "outputs": [
    {
     "data": {
      "text/plain": [
       "4795"
      ]
     },
     "execution_count": 3,
     "metadata": {},
     "output_type": "execute_result"
    }
   ],
   "source": [
    "len(word2hier.keys())"
   ]
  },
  {
   "cell_type": "markdown",
   "metadata": {},
   "source": [
    "## Generate images from unicode srtings"
   ]
  },
  {
   "cell_type": "code",
   "execution_count": 4,
   "metadata": {},
   "outputs": [],
   "source": [
    "def draw_char(ch, size=64, bw=False):\n",
    "    img = Image.new(\"RGB\",[size,size], \"black\")\n",
    "    \n",
    "    font = ImageFont.truetype('data/CODE2000.TTF', size, encoding=\"unic\")\n",
    "    ImageDraw.Draw(img).text((0, -size * 0.125), ch, fill=\"white\", font=font)\n",
    "    \n",
    "    img = np.asarray(img)\n",
    "    bwing = np.zeros((img.shape[0], img.shape[1]))\n",
    "\n",
    "    if bw:        \n",
    "        for i in range(img.shape[0]):\n",
    "            for j in range(img.shape[1]):\n",
    "                if img[i, j, 0] > 0:\n",
    "                    bwing[i, j] = 1\n",
    "    else:        \n",
    "        for i in range(img.shape[0]):\n",
    "            for j in range(img.shape[1]):\n",
    "                    bwing[i, j] = img[i, j, 0]\n",
    "    img = bwing\n",
    "    return img"
   ]
  },
  {
   "cell_type": "code",
   "execution_count": 5,
   "metadata": {},
   "outputs": [
    {
     "data": {
      "image/png": "[encoded data removed]",
      "text/plain": [
       "<matplotlib.figure.Figure at 0x7f1796312be0>"
      ]
     },
     "metadata": {},
     "output_type": "display_data"
    }
   ],
   "source": [
    "plt.imshow(draw_char(word2hier[\"moon\"]), cmap = plt.get_cmap('gray'), interpolation=\"nearest\")\n",
    "plt.show()"
   ]
  },
  {
   "cell_type": "markdown",
   "metadata": {},
   "source": [
    "## Reading word2vec\n",
    "word2vec set is taken from http://nlp.stanford.edu/data/glove.42B.300d.zip\n",
    "\n",
    "Containes pre-trained 300-dimensional vectors trained on Common Crawl (42B) dataset"
   ]
  },
  {
   "cell_type": "code",
   "execution_count": 6,
   "metadata": {},
   "outputs": [
    {
     "name": "stdout",
     "output_type": "stream",
     "text": [
      "100000 lines read, 4438 words found\n",
      "200000 lines read, 4594 words found\n",
      "300000 lines read, 4636 words found\n",
      "400000 lines read, 4662 words found\n",
      "500000 lines read, 4673 words found\n",
      "600000 lines read, 4679 words found\n",
      "700000 lines read, 4687 words found\n",
      "800000 lines read, 4688 words found\n",
      "900000 lines read, 4692 words found\n",
      "1000000 lines read, 4695 words found\n",
      "1100000 lines read, 4697 words found\n",
      "1200000 lines read, 4702 words found\n",
      "1300000 lines read, 4704 words found\n",
      "1400000 lines read, 4704 words found\n",
      "1500000 lines read, 4704 words found\n",
      "1600000 lines read, 4705 words found\n",
      "1700000 lines read, 4705 words found\n",
      "1800000 lines read, 4705 words found\n",
      "1900000 lines read, 4705 words found\n",
      "1917494 lines read, 4706 words found\n"
     ]
    }
   ],
   "source": [
    "word2vec = {}\n",
    "\n",
    "lcount = 0\n",
    "wcount = 0\n",
    "\n",
    "for line in open('./data/glove.42B.300d.txt', 'r', encoding='utf-8'):\n",
    "    word, vect = line.split(\" \", maxsplit=1)\n",
    "    \n",
    "    if word in word2hier.keys():\n",
    "        wcount += 1\n",
    "        vect = [float(n) for n in vect[:-1].split(\" \")]\n",
    "        word2vec[word] = vect\n",
    "    \n",
    "    lcount += 1\n",
    "    if (lcount % 100000 == 0):\n",
    "        print(\"{} lines read, {} words found\".format(lcount, wcount))\n",
    "       \n",
    "print(\"{} lines read, {} words found\".format(lcount, wcount))"
   ]
  },
  {
   "cell_type": "markdown",
   "metadata": {},
   "source": [
    "## Compose word to vector and character dictionary"
   ]
  },
  {
   "cell_type": "code",
   "execution_count": 7,
   "metadata": {},
   "outputs": [
    {
     "name": "stdout",
     "output_type": "stream",
     "text": [
      "1000 words processed\n",
      "2000 words processed\n",
      "3000 words processed\n",
      "4000 words processed\n",
      "4706 words processed\n"
     ]
    }
   ],
   "source": [
    "char_size = 64\n",
    "\n",
    "word2vec_char = {}\n",
    "wcount = 0\n",
    "\n",
    "for key in word2vec:\n",
    "    word2vec_char[key] = {\"vect\": word2vec[key], \"char\": draw_char(word2hier[key], size=char_size).ravel()}\n",
    "    \n",
    "    wcount += 1\n",
    "    if (wcount % 1000 == 0):\n",
    "        print(\"{} words processed\".format(wcount))\n",
    "        \n",
    "print(\"{} words processed\".format(wcount))"
   ]
  },
  {
   "cell_type": "markdown",
   "metadata": {},
   "source": [
    "# Write everything"
   ]
  },
  {
   "cell_type": "code",
   "execution_count": null,
   "metadata": {},
   "outputs": [],
   "source": [
    "timestamp = datetime.datetime.now().strftime(\"%d_%m_%y_%H_%m_%S\")\n",
    "filename = \"./data/word2_{}_vector2_{}x{}hier_{}.txt\".format(len(word2vec[\"cat\"]), \n",
    "                                                            char_size, char_size, \n",
    "                                                            timestamp)\n",
    "print(\"writing to file: {}\".format(filename))\n",
    "fld = open(filename, 'w')\n",
    "\n",
    "lcount = 0\n",
    "for key in word2vec_char:\n",
    "    \n",
    "    vector = \" \".join([str(n) for n in word2vec_char[key][\"vect\"]])\n",
    "    image = \" \".join([str(n) for n in word2vec_char[key][\"char\"]])\n",
    "    try:\n",
    "        fld.write(\"{},{},{}\\n\".format(key, vector, image))\n",
    "    except:\n",
    "        print(key)\n",
    "    \n",
    "    lcount +=1\n",
    "    if (lcount % 1000 == 0):\n",
    "        print(\"{} lines wrote\".format(lcount))\n",
    "        \n",
    "fld.close()\n",
    "print(\"{} lines wrote\".format(lcount))"
   ]
  },
  {
   "cell_type": "markdown",
   "metadata": {},
   "source": [
    "# An attempt to generate more Data"
   ]
  },
  {
   "cell_type": "markdown",
   "metadata": {},
   "source": [
    "## Character images dataset augmentation\n",
    "Let's create 100 versions for every char"
   ]
  },
  {
   "cell_type": "code",
   "execution_count": 15,
   "metadata": {},
   "outputs": [
    {
     "data": {
      "image/png": "[encoded data removed]",
      "text/plain": [
       "<matplotlib.figure.Figure at 0x7f1791ea3e48>"
      ]
     },
     "metadata": {},
     "output_type": "display_data"
    }
   ],
   "source": [
    "def draw_small_char(ch, size=64, bw=False):\n",
    "    img = Image.new(\"RGB\",[size,size], \"black\")\n",
    "    \n",
    "    font = ImageFont.truetype('data/CODE2000.TTF', int(size*0.66), encoding=\"unic\")\n",
    "    ImageDraw.Draw(img).text((size * 0.20, size * 0.1), ch, fill=\"white\", font=font)\n",
    "    \n",
    "    img = np.asarray(img)\n",
    "    bwing = np.zeros((img.shape[0], img.shape[1]))\n",
    "\n",
    "    if bw:        \n",
    "        for i in range(img.shape[0]):\n",
    "            for j in range(img.shape[1]):\n",
    "                if img[i, j, 0] > 0:\n",
    "                    bwing[i, j] = 1\n",
    "    else:        \n",
    "        for i in range(img.shape[0]):\n",
    "            for j in range(img.shape[1]):\n",
    "                    bwing[i, j] = img[i, j, 0]\n",
    "    img = bwing\n",
    "    return img\n",
    "\n",
    "plt.imshow(draw_small_char(word2hier[\"moon\"]), cmap = plt.get_cmap('gray'), interpolation=\"nearest\")\n",
    "plt.show()"
   ]
  },
  {
   "cell_type": "code",
   "execution_count": 16,
   "metadata": {},
   "outputs": [
    {
     "name": "stderr",
     "output_type": "stream",
     "text": [
      "Using TensorFlow backend.\n"
     ]
    }
   ],
   "source": [
    "from keras.preprocessing.image import ImageDataGenerator"
   ]
  },
  {
   "cell_type": "markdown",
   "metadata": {},
   "source": [
    "## Prepare data arrays"
   ]
  },
  {
   "cell_type": "code",
   "execution_count": 17,
   "metadata": {},
   "outputs": [
    {
     "name": "stdout",
     "output_type": "stream",
     "text": [
      "1000 words processed\n",
      "2000 words processed\n",
      "3000 words processed\n",
      "4000 words processed\n",
      "4706 words processed\n"
     ]
    }
   ],
   "source": [
    "# word2vec vectors\n",
    "X_vec = []\n",
    "# character\n",
    "Y_chr = []\n",
    "\n",
    "wcount = 0\n",
    "for word in word2vec:\n",
    "    X_vec.append(word2vec[word])\n",
    "    chr_img = draw_small_char(word2hier[word])\n",
    "    Y_chr.append(np.reshape(chr_img, (chr_img.shape[0], chr_img.shape[1], 1)))\n",
    "    \n",
    "    wcount += 1\n",
    "    if (wcount % 1000 == 0):\n",
    "        print(\"{} words processed\".format(wcount))\n",
    "        \n",
    "print(\"{} words processed\".format(wcount))\n",
    "\n",
    "X_vec = np.array(X_vec)\n",
    "Y_chr = np.array(Y_chr)"
   ]
  },
  {
   "cell_type": "code",
   "execution_count": 25,
   "metadata": {},
   "outputs": [],
   "source": [
    "datagen = ImageDataGenerator(rotation_range=15,\n",
    "                             width_shift_range=0.15,\n",
    "                             height_shift_range=0.15,\n",
    "                             zoom_range=0.15)\n",
    "\n",
    "datagen.fit(Y_chr)"
   ]
  },
  {
   "cell_type": "code",
   "execution_count": 26,
   "metadata": {},
   "outputs": [
    {
     "data": {
      "image/png": "[encoded data removed]",
      "text/plain": [
       "<matplotlib.figure.Figure at 0x7f17493f8d68>"
      ]
     },
     "metadata": {},
     "output_type": "display_data"
    }
   ],
   "source": [
    "for Y_batch, X_batch in datagen.flow(Y_chr, X_vec, batch_size=9):\n",
    "    for i in range(9):\n",
    "        plt.subplot(330 + 1 + i)\n",
    "        plt.imshow(Y_batch[i].reshape(64, 64), cmap=plt.get_cmap('gray'))\n",
    "        plt.axis('off')\n",
    "    plt.show()\n",
    "    break"
   ]
  },
  {
   "cell_type": "code",
   "execution_count": 29,
   "metadata": {},
   "outputs": [
    {
     "name": "stdout",
     "output_type": "stream",
     "text": [
      "500 of 4706 batches processed\n",
      "1000 of 4706 batches processed\n",
      "1500 of 4706 batches processed\n",
      "2000 of 4706 batches processed\n",
      "2500 of 4706 batches processed\n"
     ]
    },
    {
     "ename": "KeyboardInterrupt",
     "evalue": "",
     "output_type": "error",
     "traceback": [
      "\u001b[0;31m---------------------------------------------------------------------------\u001b[0m",
      "\u001b[0;31mKeyboardInterrupt\u001b[0m                         Traceback (most recent call last)",
      "\u001b[0;32m<ipython-input-29-2e47631fcaa8>\u001b[0m in \u001b[0;36m<module>\u001b[0;34m()\u001b[0m\n\u001b[1;32m      7\u001b[0m \u001b[0;32mfor\u001b[0m \u001b[0mY_batch\u001b[0m\u001b[0;34m,\u001b[0m \u001b[0mX_batch\u001b[0m \u001b[0;32min\u001b[0m \u001b[0mdatagen\u001b[0m\u001b[0;34m.\u001b[0m\u001b[0mflow\u001b[0m\u001b[0;34m(\u001b[0m\u001b[0mY_chr\u001b[0m\u001b[0;34m,\u001b[0m \u001b[0mX_vec\u001b[0m\u001b[0;34m,\u001b[0m \u001b[0mbatch_size\u001b[0m\u001b[0;34m=\u001b[0m\u001b[0;36m50\u001b[0m\u001b[0;34m)\u001b[0m\u001b[0;34m:\u001b[0m\u001b[0;34m\u001b[0m\u001b[0m\n\u001b[1;32m      8\u001b[0m \u001b[0;34m\u001b[0m\u001b[0m\n\u001b[0;32m----> 9\u001b[0;31m     \u001b[0mY_chr_aug\u001b[0m \u001b[0;34m=\u001b[0m \u001b[0mnp\u001b[0m\u001b[0;34m.\u001b[0m\u001b[0mconcatenate\u001b[0m\u001b[0;34m(\u001b[0m\u001b[0;34m(\u001b[0m\u001b[0mY_chr_aug\u001b[0m\u001b[0;34m,\u001b[0m \u001b[0mY_batch\u001b[0m\u001b[0;34m)\u001b[0m\u001b[0;34m)\u001b[0m\u001b[0;34m\u001b[0m\u001b[0m\n\u001b[0m\u001b[1;32m     10\u001b[0m     \u001b[0mX_vec_aug\u001b[0m \u001b[0;34m=\u001b[0m \u001b[0mnp\u001b[0m\u001b[0;34m.\u001b[0m\u001b[0mconcatenate\u001b[0m\u001b[0;34m(\u001b[0m\u001b[0;34m(\u001b[0m\u001b[0mX_vec_aug\u001b[0m\u001b[0;34m,\u001b[0m \u001b[0mX_batch\u001b[0m\u001b[0;34m)\u001b[0m\u001b[0;34m)\u001b[0m\u001b[0;34m\u001b[0m\u001b[0m\n\u001b[1;32m     11\u001b[0m \u001b[0;34m\u001b[0m\u001b[0m\n",
      "\u001b[0;31mKeyboardInterrupt\u001b[0m: "
     ]
    }
   ],
   "source": [
    "Y_chr_aug = np.array([Y_chr[0]])\n",
    "X_vec_aug = np.array([X_vec[0]])\n",
    "\n",
    "n_batches = Y_chr.shape[0]\n",
    "batch_count = 0\n",
    "\n",
    "for Y_batch, X_batch in datagen.flow(Y_chr, X_vec, batch_size=50):\n",
    "    \n",
    "    Y_chr_aug = np.concatenate((Y_chr_aug, Y_batch))\n",
    "    X_vec_aug = np.concatenate((X_vec_aug, X_batch))\n",
    "    \n",
    "    batch_count += 1\n",
    "    \n",
    "    if (batch_count % 500 == 0):\n",
    "        print(\"{} of {} batches processed\".format(batch_count, n_batches))\n",
    "    \n",
    "    if batch_count >= n_batches:\n",
    "        break\n",
    "        \n",
    "Y_chr_aug.shape, X_vec_aug.shape"
   ]
  },
  {
   "cell_type": "code",
   "execution_count": 30,
   "metadata": {},
   "outputs": [
    {
     "data": {
      "text/plain": [
       "((126007, 64, 64, 1), (126007, 300))"
      ]
     },
     "execution_count": 30,
     "metadata": {},
     "output_type": "execute_result"
    }
   ],
   "source": [
    "Y_chr_aug.shape, X_vec_aug.shape"
   ]
  },
  {
   "cell_type": "code",
   "execution_count": 31,
   "metadata": {},
   "outputs": [
    {
     "data": {
      "text/plain": [
       "'./data/vector300_2hier64x64_27_01_18_11_01_02.txt'"
      ]
     },
     "execution_count": 31,
     "metadata": {},
     "output_type": "execute_result"
    }
   ],
   "source": [
    "timestamp = datetime.datetime.now().strftime(\"%d_%m_%y_%H_%m_%S\")\n",
    "filename = \"./data/vector{}_2hier{}x{}_{}.txt\".format(len(word2vec[\"cat\"]), \n",
    "                                                          char_size, \n",
    "                                                          char_size, \n",
    "                                                          timestamp)\n",
    "filename"
   ]
  },
  {
   "cell_type": "code",
   "execution_count": 32,
   "metadata": {},
   "outputs": [
    {
     "name": "stdout",
     "output_type": "stream",
     "text": [
      "writing to file: ./data/vector300_2hier64x64_27_01_18_11_01_02.txt\n",
      "0 of 126007 lines\n",
      "10000 of 126007 lines\n",
      "20000 of 126007 lines\n",
      "30000 of 126007 lines\n",
      "40000 of 126007 lines\n",
      "50000 of 126007 lines\n",
      "60000 of 126007 lines\n",
      "70000 of 126007 lines\n",
      "80000 of 126007 lines\n",
      "90000 of 126007 lines\n",
      "100000 of 126007 lines\n",
      "110000 of 126007 lines\n",
      "120000 of 126007 lines\n"
     ]
    }
   ],
   "source": [
    "print(\"writing to file: {}\".format(filename))\n",
    "fld = open(filename, 'w')\n",
    "\n",
    "nlines = Y_chr_aug.shape[0]\n",
    "for i in range(nlines):\n",
    "    vec = \" \".join([str(n) for n in X_vec_aug[i]])\n",
    "    img = \" \".join([str(n) for n in Y_chr_aug[i].ravel()])\n",
    "    \n",
    "    fld.write(\"{},{}\\n\".format(vec, img))\n",
    "        \n",
    "    if (i % 10000 == 0):\n",
    "        print(\"{} of {} lines\".format(i, nlines))\n",
    "        \n",
    "fld.close()"
   ]
  },
  {
   "cell_type": "code",
   "execution_count": null,
   "metadata": {},
   "outputs": [],
   "source": []
  }
 ],
 "metadata": {
  "kernelspec": {
   "display_name": "Python 3",
   "language": "python",
   "name": "python3"
  },
  "language_info": {
   "codemirror_mode": {
    "name": "ipython",
    "version": 3
   },
   "file_extension": ".py",
   "mimetype": "text/x-python",
   "name": "python",
   "nbconvert_exporter": "python",
   "pygments_lexer": "ipython3",
   "version": "3.5.2"
  }
 },
 "nbformat": 4,
 "nbformat_minor": 2
}
