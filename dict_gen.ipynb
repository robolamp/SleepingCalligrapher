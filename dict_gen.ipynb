{
 "cells": [
  {
   "cell_type": "markdown",
   "metadata": {},
   "source": [
    "# Dictionary generator\n",
    "Here I'd try to make a big dictionary  "
   ]
  },
  {
   "cell_type": "code",
   "execution_count": 3,
   "metadata": {},
   "outputs": [
    {
     "name": "stderr",
     "output_type": "stream",
     "text": [
      "/usr/lib/python3/dist-packages/matplotlib/font_manager.py:273: UserWarning: Matplotlib is building the font cache using fc-list. This may take a moment.\n",
      "  warnings.warn('Matplotlib is building the font cache using fc-list. This may take a moment.')\n",
      "/usr/lib/python3/dist-packages/matplotlib/font_manager.py:273: UserWarning: Matplotlib is building the font cache using fc-list. This may take a moment.\n",
      "  warnings.warn('Matplotlib is building the font cache using fc-list. This may take a moment.')\n"
     ]
    }
   ],
   "source": [
    "import re\n",
    "import datetime\n",
    "\n",
    "import numpy as np\n",
    "import matplotlib.pyplot as plt\n",
    "\n",
    "from PIL import Image, ImageDraw, ImageFont\n",
    "\n",
    "%matplotlib inline"
   ]
  },
  {
   "cell_type": "markdown",
   "metadata": {},
   "source": [
    "# Data\n",
    "\n",
    "## English word-Chinese character dictionary\n",
    "English-Chinese dictionary is taken from https://www.mdbg.net/chinese/dictionary?page=cedict\n",
    "\n",
    "Format of the dictionary line:\n",
    "\n",
    "```\n",
    "Traditional Simplified [pin1 yin1] /English equivalent 1/equivalent 2/\n",
    "\n",
    "```\n",
    "\n",
    "Example of the line:\n",
    "```\n",
    "雀鳥 雀鸟 [que4 niao3] /bird/\n",
    "```\n",
    "\n",
    "One word to one character dictionary"
   ]
  },
  {
   "cell_type": "code",
   "execution_count": 4,
   "metadata": {},
   "outputs": [],
   "source": [
    "word2hier = dict()\n",
    "for line in open('data/cedict_ts.u8', 'r', encoding='utf-8'):\n",
    "    if re.match(r'#.*', line):\n",
    "#   Skip comments\n",
    "        continue\n",
    "    \n",
    "    ch_trad, ch_simp, line = re.split(r' ', line, maxsplit=2)\n",
    "#   We use simplified characters\n",
    "    ch = ch_simp\n",
    "    \n",
    "    if not re.match(u'[\\u4e00-\\u9fff]\\Z', ch):\n",
    "#   Skip if ch contains more than one character\n",
    "        continue\n",
    "    \n",
    "    _, eng_eqs = re.split(r'] /', line, maxsplit=1)\n",
    "    eng_eqs = eng_eqs.split('/')[:-1]\n",
    "    \n",
    "#   Select only equivalents containing only one word\n",
    "    eng_eqs = [eq for eq in eng_eqs if re.match(r'\\w+\\Z', eq)]\n",
    "    \n",
    "    for eng_eq in eng_eqs:\n",
    "        word2hier[eng_eq] = ch"
   ]
  },
  {
   "cell_type": "code",
   "execution_count": 5,
   "metadata": {},
   "outputs": [
    {
     "data": {
      "text/plain": [
       "4795"
      ]
     },
     "execution_count": 5,
     "metadata": {},
     "output_type": "execute_result"
    }
   ],
   "source": [
    "len(word2hier.keys())"
   ]
  },
  {
   "cell_type": "markdown",
   "metadata": {},
   "source": [
    "## Generate images from unicode srtings"
   ]
  },
  {
   "cell_type": "code",
   "execution_count": 14,
   "metadata": {},
   "outputs": [],
   "source": [
    "def draw_char(ch, size=64, bw=False):\n",
    "    img = Image.new(\"RGB\",[size,size], \"black\")\n",
    "    \n",
    "    font = ImageFont.truetype('data/CODE2000.TTF', size, encoding=\"unic\")\n",
    "    ImageDraw.Draw(img).text((0, -size * 0.125), ch, fill=\"white\", font=font)\n",
    "    \n",
    "    img = np.asarray(img)\n",
    "    bwing = np.zeros((img.shape[0], img.shape[1]))\n",
    "\n",
    "    if bw:        \n",
    "        for i in range(img.shape[0]):\n",
    "            for j in range(img.shape[1]):\n",
    "                if img[i, j, 0] > 0:\n",
    "                    bwing[i, j] = 1\n",
    "    else:        \n",
    "        for i in range(img.shape[0]):\n",
    "            for j in range(img.shape[1]):\n",
    "                    bwing[i, j] = img[i, j, 0]\n",
    "    img = bwing    \n",
    "    return img"
   ]
  },
  {
   "cell_type": "code",
   "execution_count": 15,
   "metadata": {},
   "outputs": [
    {
     "data": {
      "image/png": "[encoded data removed]",
      "text/plain": [
       "<matplotlib.figure.Figure at 0x7f10cc9b7c88>"
      ]
     },
     "metadata": {},
     "output_type": "display_data"
    }
   ],
   "source": [
    "plt.imshow(draw_char(word2hier[\"moon\"]), cmap = plt.get_cmap('gray'), interpolation=\"nearest\")\n",
    "plt.show()"
   ]
  },
  {
   "cell_type": "markdown",
   "metadata": {},
   "source": [
    "## Reading word2vec\n",
    "word2vec set is taken from http://nlp.stanford.edu/data/glove.42B.300d.zip\n",
    "\n",
    "Containes pre-trained 300-dimensional vectors trained on Common Crawl (42B) dataset"
   ]
  },
  {
   "cell_type": "code",
   "execution_count": 113,
   "metadata": {},
   "outputs": [
    {
     "name": "stdout",
     "output_type": "stream",
     "text": [
      "10000 lines read, 2380 words found\n",
      "20000 lines read, 3146 words found\n",
      "30000 lines read, 3611 words found\n",
      "40000 lines read, 3896 words found\n",
      "50000 lines read, 4061 words found\n",
      "60000 lines read, 4205 words found\n",
      "70000 lines read, 4290 words found\n",
      "80000 lines read, 4351 words found\n",
      "90000 lines read, 4404 words found\n",
      "100000 lines read, 4438 words found\n",
      "110000 lines read, 4477 words found\n",
      "120000 lines read, 4496 words found\n",
      "130000 lines read, 4515 words found\n",
      "140000 lines read, 4535 words found\n",
      "150000 lines read, 4554 words found\n",
      "160000 lines read, 4561 words found\n",
      "170000 lines read, 4571 words found\n",
      "180000 lines read, 4580 words found\n",
      "190000 lines read, 4587 words found\n",
      "200000 lines read, 4594 words found\n",
      "210000 lines read, 4600 words found\n",
      "220000 lines read, 4604 words found\n",
      "230000 lines read, 4610 words found\n",
      "240000 lines read, 4614 words found\n",
      "250000 lines read, 4619 words found\n",
      "260000 lines read, 4625 words found\n",
      "270000 lines read, 4630 words found\n",
      "280000 lines read, 4632 words found\n",
      "290000 lines read, 4634 words found\n",
      "300000 lines read, 4636 words found\n",
      "310000 lines read, 4640 words found\n",
      "320000 lines read, 4642 words found\n",
      "330000 lines read, 4646 words found\n",
      "340000 lines read, 4650 words found\n",
      "350000 lines read, 4651 words found\n",
      "360000 lines read, 4653 words found\n",
      "370000 lines read, 4658 words found\n",
      "380000 lines read, 4659 words found\n",
      "390000 lines read, 4661 words found\n",
      "400000 lines read, 4662 words found\n",
      "410000 lines read, 4663 words found\n",
      "420000 lines read, 4663 words found\n",
      "430000 lines read, 4666 words found\n",
      "440000 lines read, 4667 words found\n",
      "450000 lines read, 4667 words found\n",
      "460000 lines read, 4668 words found\n",
      "470000 lines read, 4670 words found\n",
      "480000 lines read, 4671 words found\n",
      "490000 lines read, 4671 words found\n",
      "500000 lines read, 4673 words found\n",
      "510000 lines read, 4674 words found\n",
      "520000 lines read, 4674 words found\n",
      "530000 lines read, 4674 words found\n",
      "540000 lines read, 4675 words found\n",
      "550000 lines read, 4677 words found\n",
      "560000 lines read, 4677 words found\n",
      "570000 lines read, 4677 words found\n",
      "580000 lines read, 4677 words found\n",
      "590000 lines read, 4678 words found\n",
      "600000 lines read, 4679 words found\n",
      "610000 lines read, 4679 words found\n",
      "620000 lines read, 4680 words found\n",
      "630000 lines read, 4680 words found\n",
      "640000 lines read, 4681 words found\n",
      "650000 lines read, 4682 words found\n",
      "660000 lines read, 4685 words found\n",
      "670000 lines read, 4685 words found\n",
      "680000 lines read, 4685 words found\n",
      "690000 lines read, 4687 words found\n",
      "700000 lines read, 4687 words found\n",
      "710000 lines read, 4687 words found\n",
      "720000 lines read, 4687 words found\n",
      "730000 lines read, 4688 words found\n",
      "740000 lines read, 4688 words found\n",
      "750000 lines read, 4688 words found\n",
      "760000 lines read, 4688 words found\n",
      "770000 lines read, 4688 words found\n",
      "780000 lines read, 4688 words found\n",
      "790000 lines read, 4688 words found\n",
      "800000 lines read, 4688 words found\n",
      "810000 lines read, 4688 words found\n",
      "820000 lines read, 4689 words found\n",
      "830000 lines read, 4690 words found\n",
      "840000 lines read, 4690 words found\n",
      "850000 lines read, 4690 words found\n",
      "860000 lines read, 4691 words found\n",
      "870000 lines read, 4691 words found\n",
      "880000 lines read, 4692 words found\n",
      "890000 lines read, 4692 words found\n",
      "900000 lines read, 4692 words found\n",
      "910000 lines read, 4693 words found\n",
      "920000 lines read, 4693 words found\n",
      "930000 lines read, 4693 words found\n",
      "940000 lines read, 4693 words found\n",
      "950000 lines read, 4695 words found\n",
      "960000 lines read, 4695 words found\n",
      "970000 lines read, 4695 words found\n",
      "980000 lines read, 4695 words found\n",
      "990000 lines read, 4695 words found\n",
      "1000000 lines read, 4695 words found\n",
      "1010000 lines read, 4696 words found\n",
      "1020000 lines read, 4696 words found\n",
      "1030000 lines read, 4696 words found\n",
      "1040000 lines read, 4696 words found\n",
      "1050000 lines read, 4696 words found\n",
      "1060000 lines read, 4697 words found\n",
      "1070000 lines read, 4697 words found\n",
      "1080000 lines read, 4697 words found\n",
      "1090000 lines read, 4697 words found\n",
      "1100000 lines read, 4697 words found\n",
      "1110000 lines read, 4698 words found\n",
      "1120000 lines read, 4700 words found\n",
      "1130000 lines read, 4700 words found\n",
      "1140000 lines read, 4700 words found\n",
      "1150000 lines read, 4700 words found\n",
      "1160000 lines read, 4701 words found\n",
      "1170000 lines read, 4701 words found\n",
      "1180000 lines read, 4701 words found\n",
      "1190000 lines read, 4701 words found\n",
      "1200000 lines read, 4702 words found\n",
      "1210000 lines read, 4702 words found\n",
      "1220000 lines read, 4702 words found\n",
      "1230000 lines read, 4704 words found\n",
      "1240000 lines read, 4704 words found\n",
      "1250000 lines read, 4704 words found\n",
      "1260000 lines read, 4704 words found\n",
      "1270000 lines read, 4704 words found\n",
      "1280000 lines read, 4704 words found\n",
      "1290000 lines read, 4704 words found\n",
      "1300000 lines read, 4704 words found\n",
      "1310000 lines read, 4704 words found\n",
      "1320000 lines read, 4704 words found\n",
      "1330000 lines read, 4704 words found\n",
      "1340000 lines read, 4704 words found\n",
      "1350000 lines read, 4704 words found\n",
      "1360000 lines read, 4704 words found\n",
      "1370000 lines read, 4704 words found\n",
      "1380000 lines read, 4704 words found\n",
      "1390000 lines read, 4704 words found\n",
      "1400000 lines read, 4704 words found\n",
      "1410000 lines read, 4704 words found\n",
      "1420000 lines read, 4704 words found\n",
      "1430000 lines read, 4704 words found\n",
      "1440000 lines read, 4704 words found\n",
      "1450000 lines read, 4704 words found\n",
      "1460000 lines read, 4704 words found\n",
      "1470000 lines read, 4704 words found\n",
      "1480000 lines read, 4704 words found\n",
      "1490000 lines read, 4704 words found\n",
      "1500000 lines read, 4704 words found\n",
      "1510000 lines read, 4704 words found\n",
      "1520000 lines read, 4704 words found\n",
      "1530000 lines read, 4704 words found\n",
      "1540000 lines read, 4704 words found\n",
      "1550000 lines read, 4704 words found\n",
      "1560000 lines read, 4704 words found\n",
      "1570000 lines read, 4704 words found\n",
      "1580000 lines read, 4704 words found\n",
      "1590000 lines read, 4704 words found\n",
      "1600000 lines read, 4705 words found\n",
      "1610000 lines read, 4705 words found\n",
      "1620000 lines read, 4705 words found\n",
      "1630000 lines read, 4705 words found\n",
      "1640000 lines read, 4705 words found\n",
      "1650000 lines read, 4705 words found\n",
      "1660000 lines read, 4705 words found\n",
      "1670000 lines read, 4705 words found\n",
      "1680000 lines read, 4705 words found\n",
      "1690000 lines read, 4705 words found\n",
      "1700000 lines read, 4705 words found\n",
      "1710000 lines read, 4705 words found\n",
      "1720000 lines read, 4705 words found\n",
      "1730000 lines read, 4705 words found\n",
      "1740000 lines read, 4705 words found\n",
      "1750000 lines read, 4705 words found\n",
      "1760000 lines read, 4705 words found\n",
      "1770000 lines read, 4705 words found\n",
      "1780000 lines read, 4705 words found\n",
      "1790000 lines read, 4705 words found\n",
      "1800000 lines read, 4705 words found\n",
      "1810000 lines read, 4705 words found\n",
      "1820000 lines read, 4705 words found\n",
      "1830000 lines read, 4705 words found\n",
      "1840000 lines read, 4705 words found\n",
      "1850000 lines read, 4705 words found\n",
      "1860000 lines read, 4705 words found\n",
      "1870000 lines read, 4705 words found\n",
      "1880000 lines read, 4705 words found\n",
      "1890000 lines read, 4705 words found\n",
      "1900000 lines read, 4705 words found\n",
      "1910000 lines read, 4706 words found\n",
      "1917494 lines read, 4706 words found\n"
     ]
    }
   ],
   "source": [
    "word2vec = {}\n",
    "\n",
    "lcount = 0\n",
    "wcount = 0\n",
    "\n",
    "for line in open('./data/glove.42B.300d.txt', 'r', encoding='utf-8'):\n",
    "    word, vect = line.split(\" \", maxsplit=1)\n",
    "    \n",
    "    if word in word2hier.keys():\n",
    "        wcount += 1\n",
    "        vect = [float(n) for n in vect[:-1].split(\" \")]\n",
    "        word2vec[word] = vect\n",
    "    \n",
    "    lcount += 1\n",
    "    if (lcount % 10000 == 0):\n",
    "        print(\"{} lines read, {} words found\".format(lcount, wcount))\n",
    "       \n",
    "print(\"{} lines read, {} words found\".format(lcount, wcount))"
   ]
  },
  {
   "cell_type": "markdown",
   "metadata": {},
   "source": [
    "## Compose word to vector and character dictionary"
   ]
  },
  {
   "cell_type": "code",
   "execution_count": 148,
   "metadata": {},
   "outputs": [
    {
     "name": "stdout",
     "output_type": "stream",
     "text": [
      "1000 words processed\n",
      "2000 words processed\n",
      "3000 words processed\n",
      "4000 words processed\n",
      "4706 words processed\n"
     ]
    }
   ],
   "source": [
    "char_size = 64\n",
    "\n",
    "word2vec_char = {}\n",
    "wcount = 0\n",
    "\n",
    "for key in word2vec:\n",
    "    word2vec_char[key] = {\"vect\": word2vec[key], \"char\": draw_char(word2hier[key], size=char_size).ravel()}\n",
    "    \n",
    "    wcount += 1\n",
    "    if (wcount % 1000 == 0):\n",
    "        print(\"{} words processed\".format(wcount))\n",
    "        \n",
    "print(\"{} words processed\".format(wcount))"
   ]
  },
  {
   "cell_type": "markdown",
   "metadata": {},
   "source": [
    "# Write everything"
   ]
  },
  {
   "cell_type": "code",
   "execution_count": 154,
   "metadata": {},
   "outputs": [
    {
     "name": "stdout",
     "output_type": "stream",
     "text": [
      "writing to file: ./data/word2_300_vector2_64x64hier_13_11_17_12_11_00.txt\n",
      "corvée\n",
      "1000 lines wrote\n",
      "2000 lines wrote\n",
      "3000 lines wrote\n",
      "4000 lines wrote\n",
      "4706 lines wrote\n"
     ]
    }
   ],
   "source": [
    "timestamp = datetime.datetime.now().strftime(\"%d_%m_%y_%H_%m_%S\")\n",
    "filename = \"./data/word2_{}_vector2_{}x{}hier_{}.txt\".format(len(word2vec[\"cat\"]), \n",
    "                                                            char_size, char_size, \n",
    "                                                            timestamp)\n",
    "print(\"writing to file: {}\".format(filename))\n",
    "fld = open(filename, 'w')\n",
    "\n",
    "lcount = 0\n",
    "for key in word2vec_char:\n",
    "    \n",
    "    vector = \" \".join([str(n) for n in word2vec_char[key][\"vect\"]])\n",
    "    image = \" \".join([str(n) for n in word2vec_char[key][\"char\"]])\n",
    "    try:\n",
    "        fld.write(\"{},{},{}\\n\".format(key, vector, image))\n",
    "    except:\n",
    "        print(key)\n",
    "    \n",
    "    lcount +=1\n",
    "    if (lcount % 1000 == 0):\n",
    "        print(\"{} lines wrote\".format(lcount))\n",
    "        \n",
    "fld.close()\n",
    "print(\"{} lines wrote\".format(lcount))"
   ]
  },
  {
   "cell_type": "markdown",
   "metadata": {},
   "source": [
    "# An attempt to generate more Data"
   ]
  },
  {
   "cell_type": "markdown",
   "metadata": {},
   "source": [
    "## English words collocation-Chinese character dictionary"
   ]
  },
  {
   "cell_type": "code",
   "execution_count": 12,
   "metadata": {},
   "outputs": [],
   "source": [
    "coll2hier = dict()\n",
    "for line in open('data/cedict_ts.u8', 'r', encoding='utf-8'):\n",
    "    if re.match(r'#.*', line):\n",
    "#   Skip comments\n",
    "        continue\n",
    "    \n",
    "    ch_trad, ch_simp, line = re.split(r' ', line, maxsplit=2)\n",
    "#   We use simplified characters\n",
    "    ch = ch_simp\n",
    "    \n",
    "    if not re.match(u'[\\u4e00-\\u9fff]\\Z', ch):\n",
    "#   Skip if ch contains more than one character\n",
    "        continue\n",
    "    \n",
    "    _, eng_eqs = re.split(r'] /', line, maxsplit=1)\n",
    "    eng_eqs = eng_eqs.split('/')[:-1]\n",
    "    \n",
    "#   Select only equivalents containing only one word\n",
    "    eng_eqs = [eq for eq in eng_eqs if re.match(r'(\\w+\\s)*\\w+\\Z', eq)]\n",
    "    \n",
    "    for eng_eq in eng_eqs:\n",
    "        coll2hier[eng_eq] = ch"
   ]
  },
  {
   "cell_type": "code",
   "execution_count": 13,
   "metadata": {},
   "outputs": [
    {
     "data": {
      "text/plain": [
       "11919"
      ]
     },
     "execution_count": 13,
     "metadata": {},
     "output_type": "execute_result"
    }
   ],
   "source": [
    "len(coll2hier)"
   ]
  },
  {
   "cell_type": "code",
   "execution_count": 17,
   "metadata": {},
   "outputs": [
    {
     "data": {
      "image/png": "[encoded data removed]",
      "text/plain": [
       "<matplotlib.figure.Figure at 0x7f10e46b7b38>"
      ]
     },
     "metadata": {},
     "output_type": "display_data"
    }
   ],
   "source": [
    "plt.imshow(draw_char(coll2hier[\"light a fire\"]), cmap = plt.get_cmap('gray'), interpolation=\"nearest\")\n",
    "plt.show()"
   ]
  },
  {
   "cell_type": "code",
   "execution_count": null,
   "metadata": {},
   "outputs": [],
   "source": []
  }
 ],
 "metadata": {
  "kernelspec": {
   "display_name": "Python 3",
   "language": "python",
   "name": "python3"
  },
  "language_info": {
   "codemirror_mode": {
    "name": "ipython",
    "version": 3
   },
   "file_extension": ".py",
   "mimetype": "text/x-python",
   "name": "python",
   "nbconvert_exporter": "python",
   "pygments_lexer": "ipython3",
   "version": "3.5.2"
  }
 },
 "nbformat": 4,
 "nbformat_minor": 2
}
