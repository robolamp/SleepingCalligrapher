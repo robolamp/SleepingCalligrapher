{
 "cells": [
  {
   "cell_type": "markdown",
   "metadata": {},
   "source": [
    "# Dictionary generator\n",
    "Here I'd try to make a big dictionary  "
   ]
  },
  {
   "cell_type": "code",
   "execution_count": 1,
   "metadata": {},
   "outputs": [],
   "source": [
    "import re\n",
    "import datetime\n",
    "\n",
    "import numpy as np\n",
    "import matplotlib.pyplot as plt\n",
    "\n",
    "from PIL import Image, ImageDraw, ImageFont\n",
    "\n",
    "%matplotlib inline"
   ]
  },
  {
   "cell_type": "markdown",
   "metadata": {},
   "source": [
    "# Data\n",
    "\n",
    "## English word-Chinese character dictionary\n",
    "English-Chinese dictionary is taken from https://www.mdbg.net/chinese/dictionary?page=cedict\n",
    "\n",
    "Format of the dictionary line:\n",
    "\n",
    "```\n",
    "Traditional Simplified [pin1 yin1] /English equivalent 1/equivalent 2/\n",
    "\n",
    "```\n",
    "\n",
    "Example of the line:\n",
    "```\n",
    "雀鳥 雀鸟 [que4 niao3] /bird/\n",
    "```\n",
    "\n",
    "One word to one character dictionary"
   ]
  },
  {
   "cell_type": "code",
   "execution_count": null,
   "metadata": {},
   "outputs": [],
   "source": [
    "word2hier = dict()\n",
    "for line in open('data/cedict_ts.u8', 'r', encoding='utf-8'):\n",
    "    if re.match(r'#.*', line):\n",
    "#   Skip comments\n",
    "        continue\n",
    "    \n",
    "    ch_trad, ch_simp, line = re.split(r' ', line, maxsplit=2)\n",
    "#   We use simplified characters\n",
    "    ch = ch_simp\n",
    "    \n",
    "    if not re.match(u'[\\u4e00-\\u9fff]\\Z', ch):\n",
    "#   Skip if ch contains more than one character\n",
    "        continue\n",
    "    \n",
    "    _, eng_eqs = re.split(r'] /', line, maxsplit=1)\n",
    "    eng_eqs = eng_eqs.split('/')[:-1]\n",
    "    \n",
    "#   Select only equivalents containing only one word\n",
    "    eng_eqs = [eq for eq in eng_eqs if re.match(r'\\w+\\Z', eq)]\n",
    "    \n",
    "    for eng_eq in eng_eqs:\n",
    "        word2hier[eng_eq] = ch"
   ]
  },
  {
   "cell_type": "code",
   "execution_count": null,
   "metadata": {},
   "outputs": [],
   "source": [
    "len(word2hier.keys())"
   ]
  },
  {
   "cell_type": "markdown",
   "metadata": {},
   "source": [
    "## Generate images from unicode srtings"
   ]
  },
  {
   "cell_type": "code",
   "execution_count": null,
   "metadata": {},
   "outputs": [],
   "source": [
    "def draw_char(ch, size=64, bw=False):\n",
    "    img = Image.new(\"RGB\",[size,size], \"black\")\n",
    "    \n",
    "    font = ImageFont.truetype('data/CODE2000.TTF', size, encoding=\"unic\")\n",
    "    ImageDraw.Draw(img).text((0, -size * 0.125), ch, fill=\"white\", font=font)\n",
    "    \n",
    "    img = np.asarray(img)\n",
    "    bwing = np.zeros((img.shape[0], img.shape[1]))\n",
    "\n",
    "    if bw:        \n",
    "        for i in range(img.shape[0]):\n",
    "            for j in range(img.shape[1]):\n",
    "                if img[i, j, 0] > 0:\n",
    "                    bwing[i, j] = 1\n",
    "    else:        \n",
    "        for i in range(img.shape[0]):\n",
    "            for j in range(img.shape[1]):\n",
    "                    bwing[i, j] = img[i, j, 0]\n",
    "    img = bwing\n",
    "    return img"
   ]
  },
  {
   "cell_type": "code",
   "execution_count": null,
   "metadata": {},
   "outputs": [],
   "source": [
    "plt.imshow(draw_char(word2hier[\"moon\"]), cmap = plt.get_cmap('gray'), interpolation=\"nearest\")\n",
    "plt.show()"
   ]
  },
  {
   "cell_type": "markdown",
   "metadata": {},
   "source": [
    "## Reading word2vec\n",
    "word2vec set is taken from http://nlp.stanford.edu/data/glove.42B.300d.zip\n",
    "\n",
    "Containes pre-trained 300-dimensional vectors trained on Common Crawl (42B) dataset"
   ]
  },
  {
   "cell_type": "code",
   "execution_count": null,
   "metadata": {},
   "outputs": [],
   "source": [
    "word2vec = {}\n",
    "\n",
    "lcount = 0\n",
    "wcount = 0\n",
    "\n",
    "for line in open('./data/glove.42B.300d.txt', 'r', encoding='utf-8'):\n",
    "    word, vect = line.split(\" \", maxsplit=1)\n",
    "    \n",
    "    if word in word2hier.keys():\n",
    "        wcount += 1\n",
    "        vect = [float(n) for n in vect[:-1].split(\" \")]\n",
    "        word2vec[word] = vect\n",
    "    \n",
    "    lcount += 1\n",
    "    if (lcount % 10000 == 0):\n",
    "        print(\"{} lines read, {} words found\".format(lcount, wcount))\n",
    "       \n",
    "print(\"{} lines read, {} words found\".format(lcount, wcount))"
   ]
  },
  {
   "cell_type": "markdown",
   "metadata": {},
   "source": [
    "## Compose word to vector and character dictionary"
   ]
  },
  {
   "cell_type": "code",
   "execution_count": null,
   "metadata": {},
   "outputs": [],
   "source": [
    "char_size = 64\n",
    "\n",
    "word2vec_char = {}\n",
    "wcount = 0\n",
    "\n",
    "for key in word2vec:\n",
    "    word2vec_char[key] = {\"vect\": word2vec[key], \"char\": draw_char(word2hier[key], size=char_size).ravel()}\n",
    "    \n",
    "    wcount += 1\n",
    "    if (wcount % 1000 == 0):\n",
    "        print(\"{} words processed\".format(wcount))\n",
    "        \n",
    "print(\"{} words processed\".format(wcount))"
   ]
  },
  {
   "cell_type": "markdown",
   "metadata": {},
   "source": [
    "# Write everything"
   ]
  },
  {
   "cell_type": "code",
   "execution_count": null,
   "metadata": {},
   "outputs": [],
   "source": [
    "timestamp = datetime.datetime.now().strftime(\"%d_%m_%y_%H_%m_%S\")\n",
    "filename = \"./data/word2_{}_vector2_{}x{}hier_{}.txt\".format(len(word2vec[\"cat\"]), \n",
    "                                                            char_size, char_size, \n",
    "                                                            timestamp)\n",
    "print(\"writing to file: {}\".format(filename))\n",
    "fld = open(filename, 'w')\n",
    "\n",
    "lcount = 0\n",
    "for key in word2vec_char:\n",
    "    \n",
    "    vector = \" \".join([str(n) for n in word2vec_char[key][\"vect\"]])\n",
    "    image = \" \".join([str(n) for n in word2vec_char[key][\"char\"]])\n",
    "    try:\n",
    "        fld.write(\"{},{},{}\\n\".format(key, vector, image))\n",
    "    except:\n",
    "        print(key)\n",
    "    \n",
    "    lcount +=1\n",
    "    if (lcount % 1000 == 0):\n",
    "        print(\"{} lines wrote\".format(lcount))\n",
    "        \n",
    "fld.close()\n",
    "print(\"{} lines wrote\".format(lcount))"
   ]
  },
  {
   "cell_type": "markdown",
   "metadata": {},
   "source": [
    "# An attempt to generate more Data"
   ]
  },
  {
   "cell_type": "markdown",
   "metadata": {},
   "source": [
    "## English words collocation-Chinese character dictionary"
   ]
  },
  {
   "cell_type": "code",
   "execution_count": null,
   "metadata": {},
   "outputs": [],
   "source": [
    "coll2hier = dict()\n",
    "for line in open('data/cedict_ts.u8', 'r', encoding='utf-8'):\n",
    "    if re.match(r'#.*', line):\n",
    "#   Skip comments\n",
    "        continue\n",
    "    \n",
    "    ch_trad, ch_simp, line = re.split(r' ', line, maxsplit=2)\n",
    "#   We use simplified characters\n",
    "    ch = ch_simp\n",
    "    \n",
    "    if not re.match(u'[\\u4e00-\\u9fff]\\Z', ch):\n",
    "#   Skip if ch contains more than one character\n",
    "        continue\n",
    "    \n",
    "    _, eng_eqs = re.split(r'] /', line, maxsplit=1)\n",
    "    eng_eqs = eng_eqs.split('/')[:-1]\n",
    "    \n",
    "#   Select only equivalents containing only one word\n",
    "    eng_eqs = [eq for eq in eng_eqs if re.match(r'(\\w+\\s)*\\w+\\Z', eq)]\n",
    "    \n",
    "    for eng_eq in eng_eqs:\n",
    "        coll2hier[eng_eq] = ch"
   ]
  },
  {
   "cell_type": "code",
   "execution_count": null,
   "metadata": {},
   "outputs": [],
   "source": [
    "len(coll2hier)"
   ]
  },
  {
   "cell_type": "code",
   "execution_count": null,
   "metadata": {},
   "outputs": [],
   "source": [
    "plt.imshow(draw_char(coll2hier[\"light a fire\"]), cmap = plt.get_cmap('gray'), interpolation=\"nearest\")\n",
    "plt.show()"
   ]
  },
  {
   "cell_type": "code",
   "execution_count": null,
   "metadata": {},
   "outputs": [],
   "source": []
  }
 ],
 "metadata": {
  "kernelspec": {
   "display_name": "Python 3",
   "language": "python",
   "name": "python3"
  },
  "language_info": {
   "codemirror_mode": {
    "name": "ipython",
    "version": 3
   },
   "file_extension": ".py",
   "mimetype": "text/x-python",
   "name": "python",
   "nbconvert_exporter": "python",
   "pygments_lexer": "ipython3",
   "version": "3.5.2"
  }
 },
 "nbformat": 4,
 "nbformat_minor": 2
}
